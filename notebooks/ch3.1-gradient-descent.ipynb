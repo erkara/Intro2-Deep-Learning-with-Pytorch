{
 "cells": [
  {
   "cell_type": "markdown",
   "id": "f1bbc896",
   "metadata": {
    "id": "f1bbc896"
   },
   "source": [
    "# Gradient Descent Method"
   ]
  },
  {
   "cell_type": "code",
   "execution_count": 1,
   "id": "25f976bf",
   "metadata": {
    "hide_input": false,
    "id": "25f976bf"
   },
   "outputs": [],
   "source": [
    "import numpy as np\n",
    "import matplotlib.pyplot as plt"
   ]
  },
  {
   "cell_type": "markdown",
   "id": "f59bea48",
   "metadata": {
    "id": "f59bea48"
   },
   "source": [
    "**Finding the Minimizer with Gradient Decent**\n",
    "\n",
    "- Gradient decent is the fundamental algorithm that is behind ALL of the deep learning models, including ChatGPT...\n",
    "\n",
    "- End goal of many of the deep learning models is to minimize a \"cost function\" with respect to the parameters in the system. Gradient decent is the ONLY tool to achieve this goal. Without proper understanding of it, it is not possible to fully comprehend how deep learning models work. There are tons of resources online. I would like to refer to Youtube videos whenever possible. Check the following links [1](https://www.youtube.com/watch?v=qg4PchTECck),[2](https://www.youtube.com/watch?v=Gbz8RljxIHo).\n",
    "\n",
    "\n",
    "- You can find the following statement in any standard calculus-3 textbook; *the minimum rate of change of a function occurs in the direction of the negative gradient*. \n",
    "\n",
    "- This roughly(!) just means if you keep walking in opposite direction of the derivative of a function, you can reach the local minimum(usually not global minimum) of that function. \n",
    "\n",
    "\n",
    "- Mathematically speaking, let $f(\\vec{x})$ be a function and $r$ be the step size we preassign. Then the following sequence\n",
    "\n",
    "$$\\vec{x}_{n+1}=\\vec{x}_{n} - r\\nabla f(\\vec{x}_{n})$$ \n",
    "\n",
    "converges to a local minimum value of $f(\\vec{x})$. Well, if you are lucky enough that $f(\\vec{x})$ is a convex function, that point is actually global minimum, which is the best outcome."
   ]
  },
  {
   "cell_type": "markdown",
   "id": "44d678dd",
   "metadata": {
    "id": "44d678dd"
   },
   "source": [
    "**Ex1**: Find the minimizer of $f(x)=(x-2)^2+5$ using gradient decent method.\n",
    "Try r = 0.01, x0 = 4, N = 10. Notice that this function has a global minimum at $\\bar{x}=2$. If the algorithm works, it must converge to $\\bar{x}=2$"
   ]
  },
  {
   "cell_type": "code",
   "execution_count": 2,
   "id": "f3e1caa0",
   "metadata": {
    "code_folding": [],
    "executionInfo": {
     "elapsed": 137,
     "status": "ok",
     "timestamp": 1676316858803,
     "user": {
      "displayName": "Erdi",
      "userId": "00321255967831130197"
     },
     "user_tz": 300
    },
    "id": "f3e1caa0",
    "run_control": {
     "marked": false
    }
   },
   "outputs": [],
   "source": [
    "#objective function\n",
    "def f(x):\n",
    "    return (x-2)**2 + 5\n",
    "\n",
    "#derivative(gradient) of f(x)\n",
    "def funder(x):    \n",
    "    return 2*(x-2)"
   ]
  },
  {
   "cell_type": "code",
   "execution_count": 3,
   "id": "0994ef59",
   "metadata": {
    "colab": {
     "base_uri": "https://localhost:8080/"
    },
    "executionInfo": {
     "elapsed": 129,
     "status": "ok",
     "timestamp": 1676317078785,
     "user": {
      "displayName": "Erdi",
      "userId": "00321255967831130197"
     },
     "user_tz": 300
    },
    "id": "0994ef59",
    "outputId": "ec2f80a1-3f30-4c01-83f3-1777608f1f71",
    "run_control": {
     "marked": false
    },
    "scrolled": true
   },
   "outputs": [
    {
     "name": "stdout",
     "output_type": "stream",
     "text": [
      "n: 0 x_n: 3.960000 f(x_n): 8.841600\n",
      "n: 1 x_n: 3.920800 f(x_n): 8.689473\n",
      "n: 2 x_n: 3.882384 f(x_n): 8.543370\n",
      "n: 3 x_n: 3.844736 f(x_n): 8.403052\n",
      "n: 4 x_n: 3.807842 f(x_n): 8.268291\n",
      "n: 5 x_n: 3.771685 f(x_n): 8.138867\n",
      "n: 6 x_n: 3.736251 f(x_n): 8.014568\n",
      "n: 7 x_n: 3.701526 f(x_n): 7.895191\n",
      "n: 8 x_n: 3.667496 f(x_n): 7.780541\n",
      "n: 9 x_n: 3.634146 f(x_n): 7.670432\n"
     ]
    }
   ],
   "source": [
    "#learning rate\n",
    "r = 0.01\n",
    "#initial guess\n",
    "x0 = 4\n",
    "\n",
    "#number of epochs\n",
    "N = 10\n",
    "for n in range(N):\n",
    "    x_new = x0 - r * funder(x0)  # gradient decent step\n",
    "    x0 = x_new                      # update the current guess\n",
    "    print(f'n: {n} x_n: {x_new:0.6f} f(x_n): {f(x_new):0.6f}')"
   ]
  },
  {
   "cell_type": "markdown",
   "id": "68e9fa59",
   "metadata": {
    "id": "68e9fa59"
   },
   "source": [
    "Here are some cool machine learning jargons;\n",
    "- $r$ = learning rate\n",
    "- $N$ = number of epochs\n",
    "- $x0$ = initial guess\n",
    "- $f(x)$ = target,cost,loss,objective function\n",
    "- $f'(x)$ = gradient"
   ]
  },
  {
   "cell_type": "markdown",
   "id": "af3435bf",
   "metadata": {
    "id": "af3435bf"
   },
   "source": [
    "- Now it is time to play with parameters. First of all, 3.66 is pretty far away from 2. There are a couple of ways to do; (1) increase the learning rate;(2) Increase the number of epochs; (3) Find a better initial guess. \n",
    "\n",
    "- In real applications, forget about (3) which is practically not possible. (2) is generally what we try. (1) can be done but be careful not to diverge. By changing the parameter and watching the results will give you a general idea about how they effect the algorithm. \n",
    "\n",
    "- Ultimate goal is to obtain a sufficently good approximation with fewer steps. To achieve this, we can increase the learning rate to approach the minimum faster, keeping in mind that we can diverce down on the way. \n",
    "\n",
    "- Alternatively, we can attempt to start with a closer initial guess to the minimum point so that we can converge quickly. However, this is not possible in real problems as we dont know where the minimum point is. \n",
    "- Quantities such as learning rate, number of epochs and so many other we will see later are called **\"hyperparameters\"** or **\"learnable\"** parameters or **\"tunable\"** parameters. To achieve the best approximation, we tune these parameters in the model."
   ]
  },
  {
   "cell_type": "markdown",
   "id": "860ef104",
   "metadata": {
    "id": "860ef104"
   },
   "source": [
    "**Ex2**: Find the minimizer for $f(x,y)=(x-2)^2+(y-3)^2+10$. Notice that this function assumes its minimum at $(x,y)=(2,3)$ with min value $z=10$. Now let's use gradient decent to approximate this point. The surface is given below\n",
    "![](https://drive.google.com/uc?export=view&id=1Df_UqnAFbubyCGB-EbfVAGVYWJo3GnSs)\n"
   ]
  },
  {
   "cell_type": "code",
   "execution_count": 4,
   "id": "6be088c1",
   "metadata": {
    "executionInfo": {
     "elapsed": 115,
     "status": "ok",
     "timestamp": 1676317234347,
     "user": {
      "displayName": "Erdi",
      "userId": "00321255967831130197"
     },
     "user_tz": 300
    },
    "id": "6be088c1",
    "run_control": {
     "marked": false
    }
   },
   "outputs": [],
   "source": [
    "# Notice how we use (x[0],x[1]) instead of (x,y)\n",
    "def f(x):\n",
    "    # x: numpy array\n",
    "    return (x[0]-2)**2+(x[1]-3)**2+10\n",
    "\n",
    "def gradf(x):\n",
    "    # return the gradient of f as a numpy array\n",
    "    return np.array([2*(x[0]-2),2*(x[1]-3)])"
   ]
  },
  {
   "cell_type": "code",
   "execution_count": 5,
   "id": "530b8e3d",
   "metadata": {
    "colab": {
     "base_uri": "https://localhost:8080/"
    },
    "executionInfo": {
     "elapsed": 149,
     "status": "ok",
     "timestamp": 1676317254755,
     "user": {
      "displayName": "Erdi",
      "userId": "00321255967831130197"
     },
     "user_tz": 300
    },
    "id": "530b8e3d",
    "outputId": "09204570-dc89-4c1c-a430-981aee104565",
    "run_control": {
     "marked": false
    }
   },
   "outputs": [
    {
     "name": "stdout",
     "output_type": "stream",
     "text": [
      "n: 0 [x_n,y_n]: [0.4 0.6] f(x_n,y_n): 18.320000\n",
      "n: 1 [x_n,y_n]: [0.72 1.08] f(x_n,y_n): 15.324800\n",
      "n: 2 [x_n,y_n]: [0.976 1.464] f(x_n,y_n): 13.407872\n",
      "n: 3 [x_n,y_n]: [1.1808 1.7712] f(x_n,y_n): 12.181038\n",
      "n: 4 [x_n,y_n]: [1.34464 2.01696] f(x_n,y_n): 11.395864\n",
      "n: 5 [x_n,y_n]: [1.475712 2.213568] f(x_n,y_n): 10.893353\n",
      "n: 6 [x_n,y_n]: [1.5805696 2.3708544] f(x_n,y_n): 10.571746\n",
      "n: 7 [x_n,y_n]: [1.66445568 2.49668352] f(x_n,y_n): 10.365917\n",
      "n: 8 [x_n,y_n]: [1.73156454 2.59734682] f(x_n,y_n): 10.234187\n",
      "n: 9 [x_n,y_n]: [1.78525164 2.67787745] f(x_n,y_n): 10.149880\n",
      "n: 10 [x_n,y_n]: [1.82820131 2.74230196] f(x_n,y_n): 10.095923\n",
      "n: 11 [x_n,y_n]: [1.86256105 2.79384157] f(x_n,y_n): 10.061391\n",
      "n: 12 [x_n,y_n]: [1.89004884 2.83507326] f(x_n,y_n): 10.039290\n",
      "n: 13 [x_n,y_n]: [1.91203907 2.8680586 ] f(x_n,y_n): 10.025146\n",
      "n: 14 [x_n,y_n]: [1.92963126 2.89444688] f(x_n,y_n): 10.016093\n",
      "n: 15 [x_n,y_n]: [1.943705   2.91555751] f(x_n,y_n): 10.010300\n",
      "n: 16 [x_n,y_n]: [1.954964   2.93244601] f(x_n,y_n): 10.006592\n",
      "n: 17 [x_n,y_n]: [1.9639712 2.9459568] f(x_n,y_n): 10.004219\n",
      "n: 18 [x_n,y_n]: [1.97117696 2.95676544] f(x_n,y_n): 10.002700\n",
      "n: 19 [x_n,y_n]: [1.97694157 2.96541235] f(x_n,y_n): 10.001728\n"
     ]
    }
   ],
   "source": [
    "#Now lets set up the gradien decent\n",
    "x_old = np.array([0,0]) #initial guess\n",
    "r = 0.1                 #learning rate\n",
    "N = 20                 #number of epochs\n",
    "for i in range(N):\n",
    "    x_new = x_old - r*gradf(x_old)\n",
    "    x_old = x_new\n",
    "    #if i%10==0:\n",
    "    print(f'n: {i} [x_n,y_n]: {x_new} f(x_n,y_n): {f(x_new):0.6f}')"
   ]
  },
  {
   "cell_type": "markdown",
   "id": "nAGt4D8Q21Mo",
   "metadata": {
    "id": "nAGt4D8Q21Mo"
   },
   "source": [
    "**Ex3**: Let's consider the function $$f(x)=2\\sin{x}+5\\sin{2x}+7\\sin{0.5x}$$ \n",
    "\n",
    "We can easily plot this function as follows. We can see that there are 2 local minima(x=2.42,x=5.45) and 1 global minima(x=8.72), We would like to approach the global one.\n",
    "\n",
    "- Play with the initial guess to see if you can approach the global one. You will see that you will get stuck in one of the local minimas! \n",
    "\n",
    "- This is because your function is NOT convex any more, welcome to hell! Lots of research groups are working to improve this issue. "
   ]
  },
  {
   "cell_type": "code",
   "execution_count": 6,
   "id": "zcl6XouE21RX",
   "metadata": {
    "colab": {
     "base_uri": "https://localhost:8080/",
     "height": 374
    },
    "executionInfo": {
     "elapsed": 477,
     "status": "ok",
     "timestamp": 1676159692983,
     "user": {
      "displayName": "Erdi",
      "userId": "00321255967831130197"
     },
     "user_tz": 300
    },
    "id": "zcl6XouE21RX",
    "outputId": "6104cbd7-a11c-4d95-9af6-8a5a0391465d"
   },
   "outputs": [
    {
     "data": {
      "image/png": "[encoded data removed]",
      "text/plain": [
       "<Figure size 720x432 with 1 Axes>"
      ]
     },
     "metadata": {
      "needs_background": "light"
     },
     "output_type": "display_data"
    }
   ],
   "source": [
    "x = np.linspace(1,10,100)\n",
    "y = 2*np.sin(x)+5*np.sin(2*x)+7*np.sin(0.5*x)\n",
    "plt.figure(figsize=(10,6))\n",
    "plt.plot(x,y)\n",
    "plt.grid('on')"
   ]
  },
  {
   "cell_type": "code",
   "execution_count": 7,
   "id": "xH9C2k3O21XX",
   "metadata": {
    "executionInfo": {
     "elapsed": 128,
     "status": "ok",
     "timestamp": 1676317413036,
     "user": {
      "displayName": "Erdi",
      "userId": "00321255967831130197"
     },
     "user_tz": 300
    },
    "id": "xH9C2k3O21XX"
   },
   "outputs": [],
   "source": [
    "from math import sin,cos\n",
    "#objective function\n",
    "def f(x):\n",
    "    return 2*sin(x)+5*sin(2*x)+7*sin(0.5*x)\n",
    "\n",
    "#derivative(gradient) of f(x)\n",
    "def funder(x):    \n",
    "    return 2*cos(x)+10*cos(2*x)+0.5*cos(0.5*x)"
   ]
  },
  {
   "cell_type": "code",
   "execution_count": 8,
   "id": "DHV7YXko6Att",
   "metadata": {
    "colab": {
     "base_uri": "https://localhost:8080/"
    },
    "executionInfo": {
     "elapsed": 725,
     "status": "ok",
     "timestamp": 1676317549211,
     "user": {
      "displayName": "Erdi",
      "userId": "00321255967831130197"
     },
     "user_tz": 300
    },
    "id": "DHV7YXko6Att",
    "outputId": "54c27813-05e9-4de3-b5ad-5726afb2ce62"
   },
   "outputs": [
    {
     "name": "stdout",
     "output_type": "stream",
     "text": [
      "n: 0 x_n: 9.019442 f(x_n): -9.691829\n",
      "n: 10 x_n: 8.771033 f(x_n): -10.240705\n",
      "n: 20 x_n: 8.735551 f(x_n): -10.224357\n",
      "n: 30 x_n: 8.727374 f(x_n): -10.217029\n",
      "n: 40 x_n: 8.725450 f(x_n): -10.215110\n",
      "n: 50 x_n: 8.724996 f(x_n): -10.214647\n",
      "n: 60 x_n: 8.724889 f(x_n): -10.214537\n",
      "n: 70 x_n: 8.724864 f(x_n): -10.214511\n",
      "n: 80 x_n: 8.724858 f(x_n): -10.214505\n",
      "n: 90 x_n: 8.724857 f(x_n): -10.214503\n"
     ]
    }
   ],
   "source": [
    "r = 0.1\n",
    "x_old = 8\n",
    "N = 100\n",
    "for n in range(N):\n",
    "    x_new = x_old - r * funder(x_old)  # gradient decent step\n",
    "    x_old = x_new                      # update the current guess\n",
    "    if n%10==0:\n",
    "      print(f'n: {n} x_n: {x_new:0.6f} f(x_n): {f(x_new):0.6f}')"
   ]
  },
  {
   "cell_type": "code",
   "execution_count": null,
   "id": "GjFMzfXq6A9p",
   "metadata": {
    "id": "GjFMzfXq6A9p"
   },
   "outputs": [],
   "source": []
  },
  {
   "cell_type": "code",
   "execution_count": null,
   "id": "bP3G2-0q6BLo",
   "metadata": {
    "id": "bP3G2-0q6BLo"
   },
   "outputs": [],
   "source": []
  },
  {
   "cell_type": "code",
   "execution_count": null,
   "id": "ZnA7fheQ20sx",
   "metadata": {
    "id": "ZnA7fheQ20sx"
   },
   "outputs": [],
   "source": []
  }
 ],
 "metadata": {
  "colab": {
   "provenance": [],
   "toc_visible": true
  },
  "kernelspec": {
   "display_name": "Python 3 (ipykernel)",
   "language": "python",
   "name": "python3"
  },
  "language_info": {
   "codemirror_mode": {
    "name": "ipython",
    "version": 3
   },
   "file_extension": ".py",
   "mimetype": "text/x-python",
   "name": "python",
   "nbconvert_exporter": "python",
   "pygments_lexer": "ipython3",
   "version": "3.9.13"
  },
  "latex_envs": {
   "LaTeX_envs_menu_present": true,
   "autoclose": true,
   "autocomplete": true,
   "bibliofile": "biblio.bib",
   "cite_by": "apalike",
   "current_citInitial": 1,
   "eqLabelWithNumbers": true,
   "eqNumInitial": 1,
   "hotkeys": {
    "equation": "Ctrl-E",
    "itemize": "Ctrl-I"
   },
   "labels_anchors": false,
   "latex_user_defs": false,
   "report_style_numbering": false,
   "user_envs_cfg": false
  },
  "toc": {
   "base_numbering": 1,
   "nav_menu": {},
   "number_sections": true,
   "sideBar": true,
   "skip_h1_title": false,
   "title_cell": "Table of Contents",
   "title_sidebar": "Contents",
   "toc_cell": false,
   "toc_position": {},
   "toc_section_display": true,
   "toc_window_display": false
  }
 },
 "nbformat": 4,
 "nbformat_minor": 5
}
