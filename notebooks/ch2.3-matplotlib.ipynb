{
 "cells": [
  {
   "cell_type": "markdown",
   "id": "dc45dfe3",
   "metadata": {
    "id": "dc45dfe3",
    "toc": true
   },
   "source": [
    "<h1>Table of Contents<span class=\"tocSkip\"></span></h1>\n",
    "<div class=\"toc\"><ul class=\"toc-item\"><li><span><a href=\"#Matplotlib:-visualization\" data-toc-modified-id=\"Matplotlib:-visualization-1\"><span class=\"toc-item-num\">1&nbsp;&nbsp;</span>Matplotlib: visualization</a></span><ul class=\"toc-item\"><li><span><a href=\"#Basic-Plotting\" data-toc-modified-id=\"Basic-Plotting-1.1\"><span class=\"toc-item-num\">1.1&nbsp;&nbsp;</span>Basic Plotting</a></span></li><li><span><a href=\"#Bar-Plot\" data-toc-modified-id=\"Bar-Plot-1.2\"><span class=\"toc-item-num\">1.2&nbsp;&nbsp;</span>Bar Plot</a></span></li><li><span><a href=\"#Object-Oriented-Approach-for-Matplotlib\" data-toc-modified-id=\"Object-Oriented-Approach-for-Matplotlib-1.3\"><span class=\"toc-item-num\">1.3&nbsp;&nbsp;</span>Object-Oriented Approach for Matplotlib</a></span></li></ul></li></ul></div>"
   ]
  },
  {
   "cell_type": "markdown",
   "id": "5fabbadf",
   "metadata": {
    "id": "5fabbadf"
   },
   "source": [
    "## Matplotlib: visualization"
   ]
  },
  {
   "cell_type": "markdown",
   "id": "465a959c",
   "metadata": {
    "id": "465a959c"
   },
   "source": [
    "- Matplotlib is plotting package designed for creating (mostly two dimensional) publication-quality plots\n",
    "- It is the core visualization library in Python.\n",
    "- Have a look at the website.\n",
    "- We will start work on a soccer dataset I created. We have teams with total number of goals they scored in the corresponding year in their league. Copy and paste the first two lines from  \"4TeamsScores.csv\" in datafiles folder."
   ]
  },
  {
   "cell_type": "code",
   "execution_count": 1,
   "id": "a6bf15f6",
   "metadata": {
    "executionInfo": {
     "elapsed": 182,
     "status": "ok",
     "timestamp": 1674059039929,
     "user": {
      "displayName": "Erdi",
      "userId": "00321255967831130197"
     },
     "user_tz": 300
    },
    "id": "a6bf15f6"
   },
   "outputs": [],
   "source": [
    "import matplotlib.pyplot as plt\n",
    "%matplotlib inline"
   ]
  },
  {
   "cell_type": "markdown",
   "id": "7ad52a11",
   "metadata": {
    "id": "7ad52a11"
   },
   "source": [
    "### Basic Plotting"
   ]
  },
  {
   "cell_type": "code",
   "execution_count": 2,
   "id": "c98b7802",
   "metadata": {
    "executionInfo": {
     "elapsed": 139,
     "status": "ok",
     "timestamp": 1674059042235,
     "user": {
      "displayName": "Erdi",
      "userId": "00321255967831130197"
     },
     "user_tz": 300
    },
    "id": "c98b7802"
   },
   "outputs": [],
   "source": [
    "#teams, years and number of goals they scored in that year\n",
    "Years = [2006,2007,2008,2009,2010,2011,2012,2013,2014,2015,2016,2017,2018,2019,2020]\n",
    "Barcelona = [78,76,105,98,95,114,115,100,110,112,116,99,90,86,85]\n",
    "Madrid = [66,84,83,102,102,121,103,104,118,110,106,94,63,70,67]"
   ]
  },
  {
   "cell_type": "markdown",
   "id": "f4f6c964",
   "metadata": {
    "id": "f4f6c964"
   },
   "source": [
    "- Let's first visualize Barcelona"
   ]
  },
  {
   "cell_type": "code",
   "execution_count": 3,
   "id": "6a2b4174",
   "metadata": {
    "colab": {
     "base_uri": "https://localhost:8080/",
     "height": 404
    },
    "executionInfo": {
     "elapsed": 650,
     "status": "ok",
     "timestamp": 1674059045776,
     "user": {
      "displayName": "Erdi",
      "userId": "00321255967831130197"
     },
     "user_tz": 300
    },
    "id": "6a2b4174",
    "outputId": "361aca63-1927-4672-b884-c363f889c9f3"
   },
   "outputs": [
    {
     "data": {
      "image/png": "[encoded data removed]",
      "text/plain": [
       "<Figure size 720x432 with 1 Axes>"
      ]
     },
     "metadata": {
      "needs_background": "light"
     },
     "output_type": "display_data"
    }
   ],
   "source": [
    "#figure size\n",
    "plt.figure(figsize=(10,6))\n",
    "plt.plot(Years,Barcelona,label = 'Barcelona',marker = 'o',linestyle = '--',color = 'red')\n",
    "#show the label\n",
    "plt.legend()\n",
    "#xlabel\n",
    "plt.xlabel('Years')\n",
    "#ylabel\n",
    "plt.ylabel('Goals')\n",
    "#title\n",
    "plt.title('Barcelone Goals by Year')\n",
    "#grid line\n",
    "plt.grid(True)\n",
    "#save the figure\n",
    "plt.savefig('nicegraph.jpeg')\n",
    "#display figure \n",
    "plt.show()"
   ]
  },
  {
   "cell_type": "markdown",
   "id": "08eeec5a",
   "metadata": {
    "id": "08eeec5a"
   },
   "source": [
    "- Now lets' visualize these two teams on the same graph"
   ]
  },
  {
   "cell_type": "code",
   "execution_count": null,
   "id": "d46e129b",
   "metadata": {
    "id": "d46e129b"
   },
   "outputs": [],
   "source": [
    "#figure size\n",
    "plt.figure(figsize=(10,6))\n",
    "plt.plot(Years,Barcelona,label = 'Barcelona',marker = 'o',linestyle = '--',color = 'red')\n",
    "plt.plot(Years,Madrid,label = 'Madrid',marker = 'o',linestyle = '--',color = 'blue')\n",
    "#show the label\n",
    "plt.legend()\n",
    "#xlabel\n",
    "plt.xlabel('Years')\n",
    "#ylabel\n",
    "plt.ylabel('Goals')\n",
    "#title\n",
    "plt.title('Barcelone vs madrid')\n",
    "#grid line\n",
    "plt.grid(True)\n",
    "#display figure \n",
    "plt.show()"
   ]
  },
  {
   "cell_type": "code",
   "execution_count": null,
   "id": "c12ec1b1",
   "metadata": {
    "id": "c12ec1b1"
   },
   "outputs": [],
   "source": [
    "print(plt.style.available)"
   ]
  },
  {
   "cell_type": "code",
   "execution_count": null,
   "id": "850fc5a1",
   "metadata": {
    "id": "850fc5a1"
   },
   "outputs": [],
   "source": []
  },
  {
   "cell_type": "code",
   "execution_count": null,
   "id": "79df2c15",
   "metadata": {
    "id": "79df2c15"
   },
   "outputs": [],
   "source": [
    "#pick the style from above\n",
    "plt.style.use('fivethirtyeight')\n",
    "plt.figure(figsize=(8,4))\n",
    "plt.plot(Years,Barcelona,label = 'Barcelona')\n",
    "plt.plot(Years,Madrid,label = 'Madrid')\n",
    "plt.legend()\n",
    "plt.xlabel('Years')\n",
    "plt.ylabel('Goals')\n",
    "plt.title('Barcelone vs Madrid')\n",
    "plt.grid(True)\n",
    "plt.show()"
   ]
  },
  {
   "cell_type": "code",
   "execution_count": null,
   "id": "2245ab25",
   "metadata": {
    "id": "2245ab25"
   },
   "outputs": [],
   "source": [
    "#comic style\n",
    "plt.xkcd()\n",
    "plt.figure(figsize=(8,4))\n",
    "plt.plot(Years,Barcelona,label = 'Barcelona')\n",
    "plt.plot(Years,Madrid,label = 'Madrid')\n",
    "plt.legend()\n",
    "plt.xlabel('Years')\n",
    "plt.ylabel('Goals')\n",
    "plt.title('Barcelone vs madrid')\n",
    "plt.grid(True)\n",
    "plt.show()"
   ]
  },
  {
   "cell_type": "markdown",
   "id": "b47d0fb0",
   "metadata": {
    "id": "b47d0fb0"
   },
   "source": []
  },
  {
   "cell_type": "code",
   "execution_count": null,
   "id": "e1fc3cc0",
   "metadata": {
    "id": "e1fc3cc0"
   },
   "outputs": [],
   "source": [
    "#go back to default style of matplotlib\n",
    "plt.style.use('default')"
   ]
  },
  {
   "cell_type": "markdown",
   "id": "c49eadcb",
   "metadata": {
    "id": "c49eadcb"
   },
   "source": [
    "### Bar Plot"
   ]
  },
  {
   "cell_type": "code",
   "execution_count": null,
   "id": "1f3e5188",
   "metadata": {
    "id": "1f3e5188"
   },
   "outputs": [],
   "source": [
    "plt.figure(figsize=(8,4))\n",
    "#bar graph\n",
    "plt.bar(Years,Barcelona,label = 'Barcelona',color = 'orange')\n",
    "plt.legend()\n",
    "plt.xlabel('Years')\n",
    "plt.ylabel('Goals')\n",
    "plt.title('Barcelone Goals by Year')\n",
    "plt.grid(True)\n",
    "#adjust the xticks and rotate them\n",
    "plt.xticks(ticks = Years, rotation = 45)\n",
    "#adjusts the white space around the figure\n",
    "plt.tight_layout()\n",
    "plt.show()"
   ]
  },
  {
   "cell_type": "markdown",
   "id": "b2297664",
   "metadata": {
    "id": "b2297664"
   },
   "source": [
    "## Object-Oriented Approach for Matplotlib"
   ]
  },
  {
   "cell_type": "markdown",
   "id": "9e9df33a",
   "metadata": {
    "id": "9e9df33a"
   },
   "source": [
    "- Every time we use make a plot, we use \"plt\" pyplot object without actually creating it.\n",
    "- A common practise would be to instantiate that object and use it."
   ]
  },
  {
   "cell_type": "code",
   "execution_count": null,
   "id": "693830b5",
   "metadata": {
    "id": "693830b5"
   },
   "outputs": [],
   "source": [
    "#notice that there are two objects returned\n",
    "plt.subplots()"
   ]
  },
  {
   "cell_type": "markdown",
   "id": "1db29b62",
   "metadata": {
    "id": "1db29b62"
   },
   "source": [
    "- First object **fig**, short for figure, imagine it as the frame of your plot. You can resize, reshape the frame but you cannot draw on it. On a single notebook or a script, you can have multiple figures. Each figure can have multiple subplots. Here, subplot is synonymous with axes. T\n",
    "- The second object, **ax**, short for axes, is the canvas you draw on. Or rephrasing, it is the blank sheet you can plot and hold your data. An axes object can only belong to one figure\n",
    "- We specifically point out that we are working on this fig object. It means that any plotting command we write will be applied to the axes (ax) object that belongs to fig. \n",
    "- Unless, we define a new figure with plt.subplots() command, the current figure will be the variable fig. This way is very nice since now we can create as many axes or subplots in a single figure and work with them.\n",
    "- This approach is more useful for more complex plotting tasks."
   ]
  },
  {
   "cell_type": "code",
   "execution_count": null,
   "id": "5ddc3a24",
   "metadata": {
    "id": "5ddc3a24",
    "scrolled": true
   },
   "outputs": [],
   "source": [
    "#notice that there are two ax object was returned. We can work on them seperately.\n",
    "fig,ax = plt.subplots(nrows=1,ncols=2)"
   ]
  },
  {
   "cell_type": "code",
   "execution_count": null,
   "id": "6fdf501c",
   "metadata": {
    "id": "6fdf501c"
   },
   "outputs": [],
   "source": [
    "#notice that the output is an array of matplotlib objects where we can seperately utilize\n",
    "print(type(ax))"
   ]
  },
  {
   "cell_type": "code",
   "execution_count": null,
   "id": "614dcb66",
   "metadata": {
    "id": "614dcb66"
   },
   "outputs": [],
   "source": [
    "fig,ax = plt.subplots()\n",
    "\n",
    "#work on ax propertyies\n",
    "ax.plot(Years,Barcelona,label = 'Barcelona',marker = 'o',linestyle = '--',color = 'red')\n",
    "ax.legend()\n",
    "ax.set_xlabel('Years')\n",
    "ax.set_ylabel('Goals')\n",
    "ax.set_title('Barcelone Goals by Year')\n",
    "ax.grid(True)\n",
    "\n",
    "plt.show()"
   ]
  },
  {
   "cell_type": "markdown",
   "id": "eb7a61d5",
   "metadata": {
    "id": "eb7a61d5"
   },
   "source": [
    "- We would like to draw two figures side-by-side"
   ]
  },
  {
   "cell_type": "code",
   "execution_count": null,
   "id": "4d5c4f6d",
   "metadata": {
    "id": "4d5c4f6d",
    "scrolled": true
   },
   "outputs": [],
   "source": [
    "#what if we want to draw two figures side-by-side\n",
    "#sharey: use only one common y axis\n",
    "fig,(ax1,ax2) = plt.subplots(nrows = 1,ncols = 2,figsize = (12,5),sharey=True)\n",
    "\n",
    "#work on ax1 objects\n",
    "ax1.plot(Years,Barcelona,label = 'Barcelona',marker = 'o',linestyle = '--',color = 'red')\n",
    "ax1.legend()\n",
    "ax1.set_xlabel('Years')\n",
    "ax1.set_ylabel('Goals')\n",
    "ax1.set_title('Barcelone Goals by Year')\n",
    "ax1.grid(True)\n",
    "\n",
    "#work on ax2 objects\n",
    "ax2.plot(Years,Madrid,label = 'Madrid',marker = 'o',linestyle = '--',color = 'blue')\n",
    "ax2.legend()\n",
    "ax2.set_xlabel('Years')\n",
    "ax2.set_title('Madrid Goals by Year')\n",
    "ax2.grid(True)\n",
    "\n",
    "#notice now we get these stuff from fig object. plt also works\n",
    "fig.tight_layout()\n",
    "fig.savefig('sidebyside.png')\n",
    "\n",
    "# plt.tight_layout()\n",
    "# plt.savefig('figures/sidebyside.png')\n",
    "\n",
    "plt.show()"
   ]
  },
  {
   "cell_type": "code",
   "execution_count": null,
   "id": "2cb03c16",
   "metadata": {
    "id": "2cb03c16"
   },
   "outputs": [],
   "source": []
  },
  {
   "cell_type": "markdown",
   "id": "b7dd6cb5",
   "metadata": {
    "id": "b7dd6cb5"
   },
   "source": [
    "**Assignment:** We have actually data for 4-teams in 4TeamsScores.csv. We would like to plot them all in a 2x2 canvas.\n",
    "- Try ax,fig approach first. You will see we need to do lots of copy-paste \n",
    "- Convert the data into a dictionary and try doing it with for loop.\n"
   ]
  },
  {
   "cell_type": "code",
   "execution_count": null,
   "id": "7c4e14c6",
   "metadata": {
    "id": "7c4e14c6"
   },
   "outputs": [],
   "source": [
    "Years = [2006,2007,2008,2009,2010,2011,2012,2013,2014,2015,2016,2017,2018,2019,2020]\n",
    "Barcelona = [78,76,105,98,95,114,115,100,110,112,116,99,90,86,85]\n",
    "Real_Madrid = [66,84,83,102,102,121,103,104,118,110,106,94,63,70,67]\n",
    "Bayern_Munich = [55,68,71,72,81,77,98,94,80,80,89,92,88,100,99]\n",
    "Liverpool = [57,67,77,61,59,47,71,101,52,63,78,84,89,85,68]"
   ]
  },
  {
   "cell_type": "code",
   "execution_count": null,
   "id": "e23896b5",
   "metadata": {
    "id": "e23896b5"
   },
   "outputs": [],
   "source": [
    "#(1) ax,fig approach\n",
    "fig,ax = plt.subplots(nrows=2,ncols=2,figsize=(8,8))\n",
    "#populate the upper-left graph\n",
    "ax[0,0].plot(Years,Barcelona,label = 'Barcelona',marker = 'o',linestyle = '--',color = 'red')\n",
    "ax[0,0].legend()\n",
    "ax[0,0].set_xlabel('Years')\n",
    "ax[0,0].set_ylabel('Goals')\n",
    "ax[0,0].set_title('Barcelone Goals by Year')\n",
    "ax[0,0].grid(True)\n",
    "\n",
    "ax[0,1].plot(Years,Real_Madrid,label = 'Real_Madrid',marker = 'o',linestyle = '--',color = 'red')\n",
    "ax[0,1].legend()\n",
    "ax[0,1].set_xlabel('Years')\n",
    "ax[0,1].set_ylabel('Goals')\n",
    "ax[0,1].set_title('Real_Madrid Goals by Year')\n",
    "ax[0,1].grid(True)\n",
    "\n",
    "ax[1,0].plot(Years,Bayern_Munich,label = 'Bayern_Munich',marker = 'o',linestyle = '--',color = 'red')\n",
    "ax[1,0].legend()\n",
    "ax[1,0].set_xlabel('Years')\n",
    "ax[1,0].set_ylabel('Goals')\n",
    "ax[1,0].set_title('Bayern_Munich Goals by Year')\n",
    "ax[1,0].grid(True)\n",
    "\n",
    "ax[1,1].plot(Years,Liverpool,label = 'Liverpool',marker = 'o',linestyle = '--',color = 'red')\n",
    "ax[1,1].legend()\n",
    "ax[1,1].set_xlabel('Years')\n",
    "ax[1,1].set_ylabel('Goals')\n",
    "ax[1,1].set_title('Liverpool Goals by Year')\n",
    "ax[1,1].grid(True)\n",
    "\n",
    "plt.tight_layout()\n",
    "plt.show()"
   ]
  },
  {
   "cell_type": "code",
   "execution_count": null,
   "id": "169ba8fa",
   "metadata": {
    "id": "169ba8fa"
   },
   "outputs": [],
   "source": [
    "#(2) for loop approach.\n",
    "Years =    [2006,2007,2008,2009,2010,2011,2012,2013,2014,2015,2016,2017,2018,2019,2020]\n",
    "\n",
    "#create a dictinoary\n",
    "Teams = {'Barcelona':[78,76,105,98,95,114,115,100,110,112,116,99,90,86,85],\n",
    "        'Real_Madrid':[66,84,83,102,102,121,103,104,118,110,106,94,63,70,67],\n",
    "        'Bayern_Munich':[55,68,71,72,81,77,98,94,80,80,89,92,88,100,99],\n",
    "        'Liverpool':[57,67,77,61,59,47,71,101,52,63,78,84,89,85,68]\n",
    "        }"
   ]
  },
  {
   "cell_type": "code",
   "execution_count": null,
   "id": "107f31c8",
   "metadata": {
    "id": "107f31c8"
   },
   "outputs": [],
   "source": [
    "fig,ax = plt.subplots(ncols=2,nrows=2,figsize=(10,10))\n",
    "#remember ax is an 2x2 array.This commend flattens it,i.e, make it 4x1 array\n",
    "ax = ax.ravel()\n",
    "\n",
    "#please learn what enumerate does\n",
    "for i,team_name in enumerate(Teams.keys()):\n",
    "    ax[i].plot(Years,Teams[team_name],label = team_name,marker = 'o')\n",
    "    ax[i].legend()\n",
    "    ax[i].grid(True)"
   ]
  }
 ],
 "metadata": {
  "colab": {
   "provenance": []
  },
  "kernelspec": {
   "display_name": "Python 3 (ipykernel)",
   "language": "python",
   "name": "python3"
  },
  "language_info": {
   "codemirror_mode": {
    "name": "ipython",
    "version": 3
   },
   "file_extension": ".py",
   "mimetype": "text/x-python",
   "name": "python",
   "nbconvert_exporter": "python",
   "pygments_lexer": "ipython3",
   "version": "3.9.7"
  },
  "latex_envs": {
   "LaTeX_envs_menu_present": true,
   "autoclose": false,
   "autocomplete": false,
   "bibliofile": "biblio.bib",
   "cite_by": "apalike",
   "current_citInitial": 1,
   "eqLabelWithNumbers": true,
   "eqNumInitial": 1,
   "hotkeys": {
    "equation": "Ctrl-E",
    "itemize": "Ctrl-I"
   },
   "labels_anchors": false,
   "latex_user_defs": false,
   "report_style_numbering": false,
   "user_envs_cfg": false
  },
  "toc": {
   "base_numbering": 1,
   "nav_menu": {},
   "number_sections": true,
   "sideBar": true,
   "skip_h1_title": false,
   "title_cell": "Table of Contents",
   "title_sidebar": "Contents",
   "toc_cell": true,
   "toc_position": {},
   "toc_section_display": true,
   "toc_window_display": true
  }
 },
 "nbformat": 4,
 "nbformat_minor": 5
}
