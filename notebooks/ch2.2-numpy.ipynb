{
 "cells": [
  {
   "cell_type": "markdown",
   "id": "f2e47ce7",
   "metadata": {
    "id": "f2e47ce7",
    "toc": true
   },
   "source": [
    "<h1>Table of Contents<span class=\"tocSkip\"></span></h1>\n",
    "<div class=\"toc\"><ul class=\"toc-item\"><li><span><a href=\"#Numpy:-Arrays\" data-toc-modified-id=\"Numpy:-Arrays-1\"><span class=\"toc-item-num\">1&nbsp;&nbsp;</span>Numpy: Arrays</a></span><ul class=\"toc-item\"><li><span><a href=\"#Arithmetic-with-Numpy-Arrays\" data-toc-modified-id=\"Arithmetic-with-Numpy-Arrays-1.1\"><span class=\"toc-item-num\">1.1&nbsp;&nbsp;</span>Arithmetic with Numpy Arrays</a></span></li><li><span><a href=\"#Linear-Algebra-with-Numpy\" data-toc-modified-id=\"Linear-Algebra-with-Numpy-1.2\"><span class=\"toc-item-num\">1.2&nbsp;&nbsp;</span>Linear Algebra with Numpy</a></span></li><li><span><a href=\"#Misc-Examples\" data-toc-modified-id=\"Misc-Examples-1.3\"><span class=\"toc-item-num\">1.3&nbsp;&nbsp;</span>Misc Examples</a></span></li></ul></li></ul></div>"
   ]
  },
  {
   "cell_type": "markdown",
   "id": "c7380cfe",
   "metadata": {
    "id": "c7380cfe"
   },
   "source": [
    "## Numpy: Arrays"
   ]
  },
  {
   "cell_type": "markdown",
   "id": "bfdef560",
   "metadata": {
    "id": "bfdef560"
   },
   "source": [
    "- NumPy, short for Numerical Python, is one of the most important foundational packages for numerical computing in Python. It is also the basis of many famous frameworks.\n",
    "- NumPy-based algorithms are generally 10 to 100 times faster (or more) than their pure Python counterparts such as lists and use significantly less memory.\n"
   ]
  },
  {
   "cell_type": "code",
   "execution_count": null,
   "id": "bc78d280",
   "metadata": {
    "id": "bc78d280"
   },
   "outputs": [],
   "source": [
    "import numpy as np"
   ]
  },
  {
   "cell_type": "markdown",
   "id": "H4ClyfWuzGtj",
   "metadata": {
    "id": "H4ClyfWuzGtj"
   },
   "source": [
    "![](https://drive.google.com/uc?export=view&id=1aagLmFlIG_dm06_oAZRqF3P8K8ZdTom9)"
   ]
  },
  {
   "cell_type": "code",
   "execution_count": null,
   "id": "2768a96b",
   "metadata": {
    "id": "2768a96b"
   },
   "outputs": [],
   "source": [
    "x = np.array([2,4,5,6])\n",
    "print(x)"
   ]
  },
  {
   "cell_type": "code",
   "execution_count": null,
   "id": "44d3b1e2",
   "metadata": {
    "id": "44d3b1e2"
   },
   "outputs": [],
   "source": [
    "print(x[0])\n",
    "print(x[1])"
   ]
  },
  {
   "cell_type": "code",
   "execution_count": null,
   "id": "1e4983d9",
   "metadata": {
    "id": "1e4983d9"
   },
   "outputs": [],
   "source": [
    "print(x.size)\n",
    "print(x.shape)\n",
    "print(x.dtype)\n",
    "print(x.ndim)"
   ]
  },
  {
   "cell_type": "code",
   "execution_count": null,
   "id": "8e8eebe4",
   "metadata": {
    "id": "8e8eebe4"
   },
   "outputs": [],
   "source": [
    "A = np.array([[1,2,6],\n",
    "              [5,9,0]\n",
    "             ])\n",
    "print(A)"
   ]
  },
  {
   "cell_type": "code",
   "execution_count": null,
   "id": "aeeef9ce",
   "metadata": {
    "id": "aeeef9ce"
   },
   "outputs": [],
   "source": [
    "print(A.size)\n",
    "print(A.shape)\n",
    "print(A.dtype)\n",
    "print(A.ndim)"
   ]
  },
  {
   "cell_type": "code",
   "execution_count": null,
   "id": "3acd1443",
   "metadata": {
    "id": "3acd1443"
   },
   "outputs": [],
   "source": [
    "#Python uses 0-indexing\n",
    "print(A[0,0])\n",
    "print(A[1,0])"
   ]
  },
  {
   "cell_type": "code",
   "execution_count": null,
   "id": "b928f8cf",
   "metadata": {
    "id": "b928f8cf"
   },
   "outputs": [],
   "source": [
    "#axis-0\n",
    "print(A[0])\n",
    "\n",
    "#axis-1\n",
    "print(A[1])"
   ]
  },
  {
   "cell_type": "code",
   "execution_count": null,
   "id": "ee763c5b",
   "metadata": {
    "id": "ee763c5b"
   },
   "outputs": [],
   "source": []
  },
  {
   "cell_type": "markdown",
   "id": "bbf81b12",
   "metadata": {
    "id": "bbf81b12"
   },
   "source": [
    "- Some special array generation methods"
   ]
  },
  {
   "cell_type": "code",
   "execution_count": null,
   "id": "a842e717",
   "metadata": {
    "id": "a842e717"
   },
   "outputs": [],
   "source": [
    "#some special array generations\n",
    "np.zeros(5)"
   ]
  },
  {
   "cell_type": "code",
   "execution_count": null,
   "id": "1be84e11",
   "metadata": {
    "id": "1be84e11"
   },
   "outputs": [],
   "source": [
    "#random array of size 3 , uniform dist over [0,1]\n",
    "np.random.rand(3)"
   ]
  },
  {
   "cell_type": "code",
   "execution_count": null,
   "id": "d735b522",
   "metadata": {
    "id": "d735b522"
   },
   "outputs": [],
   "source": [
    "#random int generator (min_int,max_int, (rows_num,col_num))\n",
    "np.random.randint(1,8,(3,3))"
   ]
  },
  {
   "cell_type": "code",
   "execution_count": null,
   "id": "18810129",
   "metadata": {
    "id": "18810129"
   },
   "outputs": [],
   "source": [
    "#range version of numpy\n",
    "np.arange(10)"
   ]
  },
  {
   "cell_type": "code",
   "execution_count": null,
   "id": "fe575c5d",
   "metadata": {
    "id": "fe575c5d"
   },
   "outputs": [],
   "source": [
    "#list to numpy array\n",
    "x = [1,2,0,4,5]\n",
    "print(x)\n",
    "print(type(x))\n",
    "\n",
    "y = np.array(x)\n",
    "print(y)\n",
    "print(type(y))"
   ]
  },
  {
   "cell_type": "markdown",
   "id": "e05d1f31",
   "metadata": {
    "id": "e05d1f31"
   },
   "source": [
    "Slicing arrays\n",
    "\n",
    "- Slicing in python means taking elements from one given index to another given index.\n",
    "\n",
    "- We pass slice instead of index like this: [start:end].\n",
    "\n",
    "- We can also define the step, like this: [start:end:step]."
   ]
  },
  {
   "cell_type": "code",
   "execution_count": null,
   "id": "e1298bc7",
   "metadata": {
    "id": "e1298bc7"
   },
   "outputs": [],
   "source": [
    "x = np.array([1,0,4,5,-4,2])\n",
    "print(x)"
   ]
  },
  {
   "cell_type": "code",
   "execution_count": null,
   "id": "809f7942",
   "metadata": {
    "id": "809f7942"
   },
   "outputs": [],
   "source": [
    "#from index-1 to index-2\n",
    "print(x[1:3])\n",
    "\n",
    "#from index-0 to index-3\n",
    "print(x[:4])"
   ]
  },
  {
   "cell_type": "code",
   "execution_count": null,
   "id": "ed7f0b74",
   "metadata": {
    "id": "ed7f0b74"
   },
   "outputs": [],
   "source": [
    "#grab every 2 entry\n",
    "print(x[0:5:2])"
   ]
  },
  {
   "cell_type": "code",
   "execution_count": null,
   "id": "da4ac96d",
   "metadata": {
    "id": "da4ac96d"
   },
   "outputs": [],
   "source": [
    "#reverse\n",
    "print(x[::-1])"
   ]
  },
  {
   "cell_type": "markdown",
   "id": "b75f47ea",
   "metadata": {
    "id": "b75f47ea"
   },
   "source": [
    "### Arithmetic with Numpy Arrays "
   ]
  },
  {
   "cell_type": "markdown",
   "id": "67eba1bf",
   "metadata": {
    "id": "67eba1bf"
   },
   "source": [
    "- Arrays are important because they enable you to express batch operations on data\n",
    "without writing any for loops. NumPy users call this vectorization\n",
    "- Any arithmetic\n",
    "operations between equal-size arrays applies the operation element-wise"
   ]
  },
  {
   "cell_type": "code",
   "execution_count": null,
   "id": "add2bba9",
   "metadata": {
    "id": "add2bba9"
   },
   "outputs": [],
   "source": [
    "x = np.array([1,3,2])\n",
    "y = np.array([1,2,3])"
   ]
  },
  {
   "cell_type": "code",
   "execution_count": null,
   "id": "411e7662",
   "metadata": {
    "id": "411e7662"
   },
   "outputs": [],
   "source": [
    "print(x.sum())\n",
    "print(x.mean())\n",
    "print(x.std())"
   ]
  },
  {
   "cell_type": "code",
   "execution_count": null,
   "id": "5740cf93",
   "metadata": {
    "id": "5740cf93"
   },
   "outputs": [],
   "source": [
    "print(np.sum(x))\n",
    "print(np.mean(x))\n",
    "print(np.std(x))"
   ]
  },
  {
   "cell_type": "code",
   "execution_count": null,
   "id": "e1b0948e",
   "metadata": {
    "id": "e1b0948e"
   },
   "outputs": [],
   "source": [
    "print(x+y)\n",
    "print(x*y)"
   ]
  },
  {
   "cell_type": "code",
   "execution_count": null,
   "id": "eeaa5007",
   "metadata": {
    "id": "eeaa5007"
   },
   "outputs": [],
   "source": [
    "print(x<y)"
   ]
  },
  {
   "cell_type": "code",
   "execution_count": null,
   "id": "bff26f9c",
   "metadata": {
    "id": "bff26f9c"
   },
   "outputs": [],
   "source": [
    "#elementwise multiplication\n",
    "A = np.array([[1,1],\n",
    "              [1,1]])\n",
    "B = np.array([[2,3],[4,5]])\n",
    "A*B"
   ]
  },
  {
   "cell_type": "markdown",
   "id": "47990edd",
   "metadata": {
    "id": "47990edd"
   },
   "source": [
    "**Example**: Recall that mean square error between the real value $x$ and approximation $\\bar{x}$ is given by $$MSE = \\dfrac{1}{N}\\displaystyle\\sum_{i=1}^{N}(x_i-\\bar{x}_i)^2$$\n",
    "We can carry out this operation in one shot"
   ]
  },
  {
   "cell_type": "code",
   "execution_count": null,
   "id": "4015e355",
   "metadata": {
    "id": "4015e355"
   },
   "outputs": [],
   "source": [
    "N = x.size\n",
    "MSE = 1/N*np.sum((x-y)**2)\n",
    "print(MSE)"
   ]
  },
  {
   "cell_type": "code",
   "execution_count": null,
   "id": "12d269f7",
   "metadata": {
    "id": "12d269f7"
   },
   "outputs": [],
   "source": [
    "A = np.random.randint(-5,5,(4,4))\n",
    "print(A)"
   ]
  },
  {
   "cell_type": "code",
   "execution_count": null,
   "id": "eef984a9",
   "metadata": {
    "id": "eef984a9"
   },
   "outputs": [],
   "source": [
    "#entries of the array greater than 1\n",
    "A[A>1]"
   ]
  },
  {
   "cell_type": "markdown",
   "id": "8dacad1d",
   "metadata": {
    "id": "8dacad1d"
   },
   "source": [
    "### Linear Algebra with Numpy"
   ]
  },
  {
   "cell_type": "code",
   "execution_count": null,
   "id": "228ec3b2",
   "metadata": {
    "id": "228ec3b2"
   },
   "outputs": [],
   "source": [
    " from numpy.linalg import inv,det"
   ]
  },
  {
   "cell_type": "code",
   "execution_count": null,
   "id": "71fc8765",
   "metadata": {
    "id": "71fc8765"
   },
   "outputs": [],
   "source": [
    "A = np.random.randint(1,10,(3,3))\n",
    "print(A)"
   ]
  },
  {
   "cell_type": "code",
   "execution_count": null,
   "id": "007ad414",
   "metadata": {
    "id": "007ad414"
   },
   "outputs": [],
   "source": [
    "#inverse matrix\n",
    "inv(A)"
   ]
  },
  {
   "cell_type": "code",
   "execution_count": null,
   "id": "b5a5799a",
   "metadata": {
    "id": "b5a5799a"
   },
   "outputs": [],
   "source": [
    "#determinant\n",
    "det(A)"
   ]
  },
  {
   "cell_type": "code",
   "execution_count": null,
   "id": "0a2f3b1a",
   "metadata": {
    "id": "0a2f3b1a"
   },
   "outputs": [],
   "source": [
    "A = np.array([ [4,5],\n",
    "              [0,5] ])\n",
    "B = np.array([ [-1,5],\n",
    "              [0,0] ])"
   ]
  },
  {
   "cell_type": "code",
   "execution_count": null,
   "id": "f27e3f12",
   "metadata": {
    "id": "f27e3f12"
   },
   "outputs": [],
   "source": [
    "#matrix multiplication\n",
    "A@B"
   ]
  },
  {
   "cell_type": "code",
   "execution_count": null,
   "id": "136628ed",
   "metadata": {
    "id": "136628ed"
   },
   "outputs": [],
   "source": [
    "C = np.random.randint(1,40,(5,5))\n",
    "print(C)"
   ]
  },
  {
   "cell_type": "code",
   "execution_count": null,
   "id": "5a8dd472",
   "metadata": {
    "id": "5a8dd472"
   },
   "outputs": [],
   "source": [
    "mask = (C>6)&(C<20)\n",
    "print(mask)"
   ]
  },
  {
   "cell_type": "code",
   "execution_count": null,
   "id": "ce59451f",
   "metadata": {
    "id": "ce59451f"
   },
   "outputs": [],
   "source": [
    "print(C[mask])"
   ]
  },
  {
   "cell_type": "code",
   "execution_count": null,
   "id": "ad9cbead",
   "metadata": {
    "id": "ad9cbead"
   },
   "outputs": [],
   "source": [
    "#i,j\n",
    "print(np.where(mask))"
   ]
  },
  {
   "cell_type": "code",
   "execution_count": null,
   "id": "4775920e",
   "metadata": {
    "id": "4775920e"
   },
   "outputs": [],
   "source": []
  },
  {
   "cell_type": "markdown",
   "id": "04ce8eb4",
   "metadata": {
    "id": "04ce8eb4"
   },
   "source": [
    "### Misc Examples"
   ]
  },
  {
   "cell_type": "markdown",
   "id": "76298f6d",
   "metadata": {
    "id": "76298f6d"
   },
   "source": [
    "- It is important to carry out index-based operations"
   ]
  },
  {
   "cell_type": "markdown",
   "id": "3ad84b85",
   "metadata": {
    "id": "3ad84b85"
   },
   "source": [
    "**Question**: Given an array $A$, return all entries greater than 2."
   ]
  },
  {
   "cell_type": "code",
   "execution_count": null,
   "id": "8385d793",
   "metadata": {
    "id": "8385d793"
   },
   "outputs": [],
   "source": [
    "A = 10*np.random.random(6)\n",
    "print(A)\n",
    "print(A[A>2])"
   ]
  },
  {
   "cell_type": "markdown",
   "id": "d9722f77",
   "metadata": {
    "id": "d9722f77"
   },
   "source": [
    "**Question** Given a two dimensional array, return the index of the largest entry in each row using argmax."
   ]
  },
  {
   "cell_type": "code",
   "execution_count": null,
   "id": "786f4820",
   "metadata": {
    "id": "786f4820"
   },
   "outputs": [],
   "source": [
    "A = np.random.randint(1,99,(4,4))\n",
    "print(A)"
   ]
  },
  {
   "cell_type": "code",
   "execution_count": null,
   "id": "f2a935ba",
   "metadata": {
    "id": "f2a935ba"
   },
   "outputs": [],
   "source": [
    "print(np.argmax(A,axis=1))\n",
    "print(np.amax(A,axis=1))"
   ]
  },
  {
   "cell_type": "code",
   "execution_count": null,
   "id": "531137ff",
   "metadata": {
    "id": "531137ff"
   },
   "outputs": [],
   "source": []
  }
 ],
 "metadata": {
  "colab": {
   "provenance": []
  },
  "kernelspec": {
   "display_name": "Python 3 (ipykernel)",
   "language": "python",
   "name": "python3"
  },
  "language_info": {
   "codemirror_mode": {
    "name": "ipython",
    "version": 3
   },
   "file_extension": ".py",
   "mimetype": "text/x-python",
   "name": "python",
   "nbconvert_exporter": "python",
   "pygments_lexer": "ipython3",
   "version": "3.9.7"
  },
  "latex_envs": {
   "LaTeX_envs_menu_present": true,
   "autoclose": false,
   "autocomplete": false,
   "bibliofile": "biblio.bib",
   "cite_by": "apalike",
   "current_citInitial": 1,
   "eqLabelWithNumbers": true,
   "eqNumInitial": 1,
   "hotkeys": {
    "equation": "Ctrl-E",
    "itemize": "Ctrl-I"
   },
   "labels_anchors": false,
   "latex_user_defs": false,
   "report_style_numbering": false,
   "user_envs_cfg": false
  },
  "toc": {
   "base_numbering": 1,
   "nav_menu": {},
   "number_sections": true,
   "sideBar": true,
   "skip_h1_title": false,
   "title_cell": "Table of Contents",
   "title_sidebar": "Contents",
   "toc_cell": true,
   "toc_position": {},
   "toc_section_display": true,
   "toc_window_display": true
  }
 },
 "nbformat": 4,
 "nbformat_minor": 5
}
