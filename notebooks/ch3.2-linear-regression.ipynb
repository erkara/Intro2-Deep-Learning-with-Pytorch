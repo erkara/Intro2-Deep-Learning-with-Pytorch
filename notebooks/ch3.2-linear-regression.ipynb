{
 "cells": [
  {
   "cell_type": "code",
   "execution_count": 1,
   "id": "25f976bf",
   "metadata": {
    "executionInfo": {
     "elapsed": 1700,
     "status": "ok",
     "timestamp": 1677093551316,
     "user": {
      "displayName": "Erdi",
      "userId": "00321255967831130197"
     },
     "user_tz": 300
    },
    "hide_input": false,
    "id": "25f976bf"
   },
   "outputs": [],
   "source": [
    "import numpy as np\n",
    "import matplotlib.pyplot as plt\n",
    "import pandas as pd"
   ]
  },
  {
   "cell_type": "markdown",
   "id": "5daa0c2b",
   "metadata": {
    "id": "5daa0c2b"
   },
   "source": [
    "# Linear Regression with Gradient Descent"
   ]
  },
  {
   "cell_type": "markdown",
   "id": "ZEKP3LbI3-QF",
   "metadata": {
    "id": "ZEKP3LbI3-QF"
   },
   "source": [
    "Starting off, make sure you are able to carry out the following operations in Numpy\n",
    "\n",
    " $\\sum_{i=1}^{n} (x_i+y_i),\\sum_{i=1}^{n} x_iy_i, \\sum_{i=1}^{n} (x_i-y_i)x_i $\n",
    "\n",
    " "
   ]
  },
  {
   "cell_type": "code",
   "execution_count": 2,
   "id": "aLRAaqZc3-hW",
   "metadata": {
    "colab": {
     "base_uri": "https://localhost:8080/"
    },
    "executionInfo": {
     "elapsed": 110,
     "status": "ok",
     "timestamp": 1677093596506,
     "user": {
      "displayName": "Erdi",
      "userId": "00321255967831130197"
     },
     "user_tz": 300
    },
    "id": "aLRAaqZc3-hW",
    "outputId": "7b3b609f-029b-4092-ef99-22025877ef31"
   },
   "outputs": [
    {
     "name": "stdout",
     "output_type": "stream",
     "text": [
      "13\n",
      "12\n",
      "9\n"
     ]
    }
   ],
   "source": [
    "x = np.array([1,2,4])\n",
    "y = np.array([2,3,1])\n",
    "\n",
    "\n",
    "print(np.sum(x+y))\n",
    "print(np.sum(x*y))\n",
    "print(np.sum((x-y)*x))"
   ]
  },
  {
   "cell_type": "markdown",
   "id": "908eda36",
   "metadata": {
    "id": "908eda36"
   },
   "source": [
    "Now let's jump into a linear regression problem where we will find the best line $$\\hat{y}=wx+b$$ to approximate a given set of data points $(x_i,y_i)_{i=1}^{N}$. Idea is to minimize the mean-square cost (MSE) function $$C=\\dfrac{1}{N}\\sum_{i=1}^{N}\\Big(\\hat{y}_i-y_i\\Big)^2$$\n",
    "where $\\hat{y}_i=wx_i+b$\n",
    "\n",
    "Please ponder upon the idea behind a loss function. That measures the error made between the predicted value $\\hat{y}_i$ and the real value $y_i$ at each data point $x_i$, sum them up and take the average.\n",
    "\n",
    "Using chain rule, we can see that $$\\dfrac{\\partial C}{\\partial w} = \\dfrac{1}{N}\\sum_{i=1}^{N}2\\Big(\\hat{y}_i-y_i\\Big)x_i$$, $$ \\dfrac{\\partial C}{\\partial b} = \\dfrac{1}{N}\\sum_{i=1}^{N}2\\Big(\\hat{y}_i-y_i\\Big)1$$\n",
    "Now we can go ahead and write the gradient decent for this problem. \n",
    "\n",
    "\\begin{align}\n",
    "    \\begin{bmatrix}\n",
    "           w_{n+1} \\\\\n",
    "           b_{n+1} \\\\\n",
    "     \\end{bmatrix} =\n",
    "     \\begin{bmatrix}\n",
    "           w_{n} \\\\\n",
    "           b_{n} \\\\\n",
    "      \\end{bmatrix} -\n",
    "      r\\begin{bmatrix}\n",
    "           \\dfrac{\\partial C}{\\partial w} \\\\\n",
    "          \\dfrac{\\partial C}{\\partial b} \\\\\n",
    "      \\end{bmatrix}\n",
    "\\end{align}\n",
    "\n",
    "\n",
    "Note that all of these can be done in one shot using several modules but it is important to see the machinary behind it. In machine learning jargon, we say **w: weight, b: bias**. These are learnable parameters. Lets do a single step gradient decent first.\n"
   ]
  },
  {
   "cell_type": "code",
   "execution_count": null,
   "id": "zpkuCNbulNug",
   "metadata": {
    "id": "zpkuCNbulNug"
   },
   "outputs": [],
   "source": []
  },
  {
   "cell_type": "code",
   "execution_count": 3,
   "id": "44a4dec3",
   "metadata": {
    "colab": {
     "base_uri": "https://localhost:8080/"
    },
    "executionInfo": {
     "elapsed": 122,
     "status": "ok",
     "timestamp": 1677093888568,
     "user": {
      "displayName": "Erdi",
      "userId": "00321255967831130197"
     },
     "user_tz": 300
    },
    "id": "44a4dec3",
    "outputId": "981dedda-cb4d-467c-9d41-ff972410e34d",
    "run_control": {
     "marked": false
    }
   },
   "outputs": [
    {
     "name": "stdout",
     "output_type": "stream",
     "text": [
      "0.92 0.24\n"
     ]
    }
   ],
   "source": [
    "x = np.array([1,2,4,5])    #sample input\n",
    "y = np.array([4,8,16,20])  #sample output\n",
    "n = x.shape[0]               \n",
    "w0 = 0.                 #initial guess for weight\n",
    "b0 = 0.                 #initial guess for bias\n",
    "r = 0.01;               #learing rate\n",
    "y_pred = w0 * x + b0    #get the prediction\n",
    "gradw =  1/n*np.sum( 2*(y_pred-y)*x )\n",
    "gradb = 1/n*np.sum( 2*(y_pred-y) )\n",
    "w1 = w0 - r *gradw   #update w0\n",
    "b1 = b0 - r * gradb    #update b0\n",
    "print(w1,b1)"
   ]
  },
  {
   "cell_type": "markdown",
   "id": "10d51b5e",
   "metadata": {
    "id": "10d51b5e"
   },
   "source": [
    "- Let's generate a test data in a way that the output values is on the line $y = 7x+2$. Thus, if gradient decent works,we should get $w \\approx 7,b\\approx 2$."
   ]
  },
  {
   "cell_type": "code",
   "execution_count": 4,
   "id": "33e1c4bb",
   "metadata": {
    "colab": {
     "base_uri": "https://localhost:8080/"
    },
    "executionInfo": {
     "elapsed": 164,
     "status": "ok",
     "timestamp": 1677094537020,
     "user": {
      "displayName": "Erdi",
      "userId": "00321255967831130197"
     },
     "user_tz": 300
    },
    "id": "33e1c4bb",
    "outputId": "6ede235f-c955-4285-c0e5-e20acad94c99",
    "run_control": {
     "marked": false
    }
   },
   "outputs": [
    {
     "name": "stdout",
     "output_type": "stream",
     "text": [
      "w=0.66, b=1.10\n",
      "w=3.44, b=3.90\n",
      "w=4.22, b=3.49\n",
      "w=4.82, b=3.17\n",
      "w=5.30, b=2.91\n",
      "w=5.67, b=2.71\n",
      "w=5.96, b=2.56\n",
      "w=6.19, b=2.44\n",
      "w=6.36, b=2.34\n",
      "w=6.50, b=2.27\n"
     ]
    }
   ],
   "source": [
    "#generate N random points\n",
    "N = 100\n",
    "x = np.random.rand(N)        \n",
    "y = 7*x + 2    \n",
    "num_epochs = 200;\n",
    "lr = 0.1;\n",
    "w = 0.\n",
    "b = 0.\n",
    "for i in range(num_epochs):\n",
    "    y_pred = w * x + b\n",
    "    w_der = (1/N)*np.sum(2*(y_pred-y)*x)\n",
    "    b_der = (1/N)*np.sum(2*(y_pred-y))\n",
    "    w = w - lr * w_der\n",
    "    b = b - lr * b_der\n",
    "    if i%20==0:\n",
    "      print(f'w={w:0.2f}, b={b:0.2f}')"
   ]
  },
  {
   "cell_type": "code",
   "execution_count": 5,
   "id": "a0986e62",
   "metadata": {
    "colab": {
     "base_uri": "https://localhost:8080/",
     "height": 405
    },
    "executionInfo": {
     "elapsed": 254,
     "status": "ok",
     "timestamp": 1677094541011,
     "user": {
      "displayName": "Erdi",
      "userId": "00321255967831130197"
     },
     "user_tz": 300
    },
    "id": "a0986e62",
    "outputId": "1d36a647-11c4-4ed4-ea7b-0c18102fac76",
    "run_control": {
     "marked": false
    }
   },
   "outputs": [
    {
     "data": {
      "image/png": "[encoded data removed]",
      "text/plain": [
       "<Figure size 720x432 with 1 Axes>"
      ]
     },
     "metadata": {
      "needs_background": "light"
     },
     "output_type": "display_data"
    }
   ],
   "source": [
    "y_preds = w*x+b\n",
    "plt.figure(figsize=(10,6))\n",
    "plt.plot(x,y,'ro',markersize = 8)\n",
    "plt.plot(x,y_preds,'b',linewidth=4)\n",
    "plt.xlabel('x_values')\n",
    "plt.ylabel('y_values')\n",
    "plt.title('Linear Regression Model')\n",
    "plt.legend(['data points','predicted line'])\n",
    "plt.show()"
   ]
  },
  {
   "cell_type": "markdown",
   "id": "d6ce6edb",
   "metadata": {
    "id": "d6ce6edb"
   },
   "source": [
    "- Now let's plot $w$ vs $b$ to see where it approaches"
   ]
  },
  {
   "cell_type": "markdown",
   "id": "e52b5d35",
   "metadata": {
    "id": "e52b5d35"
   },
   "source": [
    "- Notice that we use the entire data all at once. This approach is called **Batch Gradient Decent**. In realistic problems, this approach is not feasible due to hardware constraints. \n",
    "\n",
    "- Another approach would be to pick one data point and update the parameters. This is called **Stochastic Gradient Decent**. This approach would be very fast but the parameters would bounce around wildly and may never settle in local minima.  \n",
    "\n",
    "- The most common approach is to grab some portion of the data and update the parameters in each epoch. This is called **Mini-Batch Gradient Decent**. All these terms however are used interchangeably. The following figure summarizes the common characteristics of these approaches.\n",
    "\n",
    "- Your homework would be to implement *Stochastic Gradient Decent* and *Mini-Batch Gradient Decent*\n"
   ]
  },
  {
   "attachments": {},
   "cell_type": "markdown",
   "id": "08eef43f",
   "metadata": {},
   "source": [
    "![gradient.png](data/gradient.png)"
   ]
  },
  {
   "cell_type": "markdown",
   "id": "4b643774",
   "metadata": {
    "id": "4b643774"
   },
   "source": [
    "## Linear Regression on Max-Min Temperature Data\n",
    "Firs of all, lets convert our gradient decent and plotting codes to a function. This is a very common practice in any coding project. First, make sure the code is working, then deploy it as a function, class etc. At this stage, we are just interested in end results. Also let's check the error curve as well. "
   ]
  },
  {
   "cell_type": "code",
   "execution_count": 6,
   "id": "5d0c001a",
   "metadata": {
    "executionInfo": {
     "elapsed": 189,
     "status": "ok",
     "timestamp": 1677094971251,
     "user": {
      "displayName": "Erdi",
      "userId": "00321255967831130197"
     },
     "user_tz": 300
    },
    "id": "5d0c001a",
    "run_control": {
     "marked": false
    }
   },
   "outputs": [],
   "source": [
    "def FitLinearRegression(x,y,num_epochs = 100,lr = 0.01):\n",
    "    \"\"\"\n",
    "    x: inputs, y: targets\n",
    "    \"\"\"\n",
    "    #number of samples\n",
    "    N = x.shape[0]\n",
    "    \n",
    "    #initial guess for w and b\n",
    "    w,b = 0,0\n",
    "    mse = []\n",
    "    for epoch in range(num_epochs):\n",
    "        #get prediction\n",
    "        y_pred = w * x + b\n",
    "        \n",
    "        # gradient with respect to w and b\n",
    "        w_der = (1/N)*np.sum(2*(y_pred-y)*x)  \n",
    "        b_der = (1/N)*np.sum(2*(y_pred-y))\n",
    "        \n",
    "        #update w and b\n",
    "        w = w - lr * w_der                    \n",
    "        b = w - lr * b_der\n",
    "        \n",
    "        #save mean-square-error\n",
    "        mse.append(1/N * np.sum((y_pred - y)**2))\n",
    "\n",
    "    return w, b, mse\n"
   ]
  },
  {
   "cell_type": "code",
   "execution_count": 7,
   "id": "dfc2f7e4",
   "metadata": {
    "executionInfo": {
     "elapsed": 105,
     "status": "ok",
     "timestamp": 1677094997053,
     "user": {
      "displayName": "Erdi",
      "userId": "00321255967831130197"
     },
     "user_tz": 300
    },
    "id": "dfc2f7e4"
   },
   "outputs": [],
   "source": [
    "def PlotResults(x,y,w,b):\n",
    "    y_preds = w*x+b\n",
    "    plt.plot(x,y_preds,'-b',x,y,'ro',markersize = 1)\n",
    "    plt.xlabel('x_values')\n",
    "    plt.ylabel('y_values')\n",
    "    plt.title('Linear Regression Model')\n",
    "    plt.legend(['predicted','real_values'])\n",
    "    plt.show()"
   ]
  },
  {
   "cell_type": "code",
   "execution_count": 8,
   "id": "63d87807",
   "metadata": {
    "executionInfo": {
     "elapsed": 130,
     "status": "ok",
     "timestamp": 1677095002855,
     "user": {
      "displayName": "Erdi",
      "userId": "00321255967831130197"
     },
     "user_tz": 300
    },
    "id": "63d87807",
    "run_control": {
     "marked": false
    },
    "scrolled": true
   },
   "outputs": [],
   "source": [
    "def PlotError(error, num_epochs):\n",
    "    epoch = np.arange(num_epochs)\n",
    "    plt.plot(epoch,error,'-b')\n",
    "    plt.xlabel('epoch')\n",
    "    plt.ylabel('MSE Error')\n",
    "    plt.title('Error Curve')\n",
    "    plt.show()"
   ]
  },
  {
   "cell_type": "markdown",
   "id": "0e61324e",
   "metadata": {
    "id": "0e61324e"
   },
   "source": [
    "- Now let's work on a real data-set. This dataset concerns the minimum and maximum temprature recorded in a couple of years period. The data format is \"*csv\" (comma seperated version). \n",
    "- We would like to train a linear regression model to fit this dataset. We would like to predict the max temprature from minimum temprature."
   ]
  },
  {
   "cell_type": "code",
   "execution_count": 9,
   "id": "04fd9a7e",
   "metadata": {
    "colab": {
     "base_uri": "https://localhost:8080/",
     "height": 206
    },
    "executionInfo": {
     "elapsed": 534,
     "status": "ok",
     "timestamp": 1677095107725,
     "user": {
      "displayName": "Erdi",
      "userId": "00321255967831130197"
     },
     "user_tz": 300
    },
    "id": "04fd9a7e",
    "outputId": "b88b891b-2b23-4aea-e397-03a905fdc2bd",
    "run_control": {
     "marked": false
    }
   },
   "outputs": [
    {
     "data": {
      "text/html": [
       "<div>\n",
       "<style scoped>\n",
       "    .dataframe tbody tr th:only-of-type {\n",
       "        vertical-align: middle;\n",
       "    }\n",
       "\n",
       "    .dataframe tbody tr th {\n",
       "        vertical-align: top;\n",
       "    }\n",
       "\n",
       "    .dataframe thead th {\n",
       "        text-align: right;\n",
       "    }\n",
       "</style>\n",
       "<table border=\"1\" class=\"dataframe\">\n",
       "  <thead>\n",
       "    <tr style=\"text-align: right;\">\n",
       "      <th></th>\n",
       "      <th>MinTemp</th>\n",
       "      <th>MaxTemp</th>\n",
       "    </tr>\n",
       "  </thead>\n",
       "  <tbody>\n",
       "    <tr>\n",
       "      <th>0</th>\n",
       "      <td>22.222222</td>\n",
       "      <td>25.555556</td>\n",
       "    </tr>\n",
       "    <tr>\n",
       "      <th>1</th>\n",
       "      <td>21.666667</td>\n",
       "      <td>28.888889</td>\n",
       "    </tr>\n",
       "    <tr>\n",
       "      <th>2</th>\n",
       "      <td>22.222222</td>\n",
       "      <td>26.111111</td>\n",
       "    </tr>\n",
       "    <tr>\n",
       "      <th>3</th>\n",
       "      <td>22.222222</td>\n",
       "      <td>26.666667</td>\n",
       "    </tr>\n",
       "    <tr>\n",
       "      <th>4</th>\n",
       "      <td>21.666667</td>\n",
       "      <td>26.666667</td>\n",
       "    </tr>\n",
       "  </tbody>\n",
       "</table>\n",
       "</div>"
      ],
      "text/plain": [
       "     MinTemp    MaxTemp\n",
       "0  22.222222  25.555556\n",
       "1  21.666667  28.888889\n",
       "2  22.222222  26.111111\n",
       "3  22.222222  26.666667\n",
       "4  21.666667  26.666667"
      ]
     },
     "execution_count": 9,
     "metadata": {},
     "output_type": "execute_result"
    }
   ],
   "source": [
    "temprature_dir = \"data/max_min_temp.csv\"\n",
    "df = pd.read_csv(temprature_dir)\n",
    "df.head()"
   ]
  },
  {
   "cell_type": "code",
   "execution_count": 10,
   "id": "b6fc81d2",
   "metadata": {
    "colab": {
     "base_uri": "https://localhost:8080/",
     "height": 300
    },
    "executionInfo": {
     "elapsed": 144,
     "status": "ok",
     "timestamp": 1677095218871,
     "user": {
      "displayName": "Erdi",
      "userId": "00321255967831130197"
     },
     "user_tz": 300
    },
    "id": "b6fc81d2",
    "outputId": "d2cb417a-ad67-4d70-b0e5-480f65f41aeb",
    "run_control": {
     "marked": false
    }
   },
   "outputs": [
    {
     "data": {
      "text/html": [
       "<div>\n",
       "<style scoped>\n",
       "    .dataframe tbody tr th:only-of-type {\n",
       "        vertical-align: middle;\n",
       "    }\n",
       "\n",
       "    .dataframe tbody tr th {\n",
       "        vertical-align: top;\n",
       "    }\n",
       "\n",
       "    .dataframe thead th {\n",
       "        text-align: right;\n",
       "    }\n",
       "</style>\n",
       "<table border=\"1\" class=\"dataframe\">\n",
       "  <thead>\n",
       "    <tr style=\"text-align: right;\">\n",
       "      <th></th>\n",
       "      <th>MinTemp</th>\n",
       "      <th>MaxTemp</th>\n",
       "    </tr>\n",
       "  </thead>\n",
       "  <tbody>\n",
       "    <tr>\n",
       "      <th>count</th>\n",
       "      <td>119040.000000</td>\n",
       "      <td>119040.000000</td>\n",
       "    </tr>\n",
       "    <tr>\n",
       "      <th>mean</th>\n",
       "      <td>17.789511</td>\n",
       "      <td>27.045111</td>\n",
       "    </tr>\n",
       "    <tr>\n",
       "      <th>std</th>\n",
       "      <td>8.334572</td>\n",
       "      <td>8.717817</td>\n",
       "    </tr>\n",
       "    <tr>\n",
       "      <th>min</th>\n",
       "      <td>-38.333333</td>\n",
       "      <td>-33.333333</td>\n",
       "    </tr>\n",
       "    <tr>\n",
       "      <th>25%</th>\n",
       "      <td>15.000000</td>\n",
       "      <td>25.555556</td>\n",
       "    </tr>\n",
       "    <tr>\n",
       "      <th>50%</th>\n",
       "      <td>21.111111</td>\n",
       "      <td>29.444444</td>\n",
       "    </tr>\n",
       "    <tr>\n",
       "      <th>75%</th>\n",
       "      <td>23.333333</td>\n",
       "      <td>31.666667</td>\n",
       "    </tr>\n",
       "    <tr>\n",
       "      <th>max</th>\n",
       "      <td>34.444444</td>\n",
       "      <td>50.000000</td>\n",
       "    </tr>\n",
       "  </tbody>\n",
       "</table>\n",
       "</div>"
      ],
      "text/plain": [
       "             MinTemp        MaxTemp\n",
       "count  119040.000000  119040.000000\n",
       "mean       17.789511      27.045111\n",
       "std         8.334572       8.717817\n",
       "min       -38.333333     -33.333333\n",
       "25%        15.000000      25.555556\n",
       "50%        21.111111      29.444444\n",
       "75%        23.333333      31.666667\n",
       "max        34.444444      50.000000"
      ]
     },
     "execution_count": 10,
     "metadata": {},
     "output_type": "execute_result"
    }
   ],
   "source": [
    "df.describe()"
   ]
  },
  {
   "cell_type": "markdown",
   "id": "f3e0f0db",
   "metadata": {
    "id": "f3e0f0db"
   },
   "source": [
    "- In reality, we should **NOT** train the model on the entire dataset. So, we will split the data into training and testing parts. Idea is to train the model on training data set then test the quality of the model on the testing data set. \n",
    "\n",
    "- Usually, we split the data as 80% training and 20% testing. Train-test split is a **MUST** process in supervised machine learning."
   ]
  },
  {
   "cell_type": "code",
   "execution_count": 11,
   "id": "9993f572",
   "metadata": {
    "executionInfo": {
     "elapsed": 168,
     "status": "ok",
     "timestamp": 1677095366469,
     "user": {
      "displayName": "Erdi",
      "userId": "00321255967831130197"
     },
     "user_tz": 300
    },
    "id": "9993f572",
    "run_control": {
     "marked": false
    }
   },
   "outputs": [],
   "source": [
    "train_set = df.sample(frac = 0.8)     # training dataset\n",
    "test_set  = df.drop(train_set.index)  # testing dataset"
   ]
  },
  {
   "cell_type": "code",
   "execution_count": 12,
   "id": "b4f0678f",
   "metadata": {
    "colab": {
     "base_uri": "https://localhost:8080/"
    },
    "executionInfo": {
     "elapsed": 148,
     "status": "ok",
     "timestamp": 1677095368362,
     "user": {
      "displayName": "Erdi",
      "userId": "00321255967831130197"
     },
     "user_tz": 300
    },
    "id": "b4f0678f",
    "outputId": "7dadb81a-dbad-4652-d837-8f1ce2b6fe26",
    "run_control": {
     "marked": false
    }
   },
   "outputs": [
    {
     "name": "stdout",
     "output_type": "stream",
     "text": [
      "95232\n",
      "23808\n"
     ]
    }
   ],
   "source": [
    "print(len(train_set))\n",
    "print(len(test_set))"
   ]
  },
  {
   "cell_type": "code",
   "execution_count": 13,
   "id": "9f74644a",
   "metadata": {
    "executionInfo": {
     "elapsed": 1061,
     "status": "ok",
     "timestamp": 1677095410854,
     "user": {
      "displayName": "Erdi",
      "userId": "00321255967831130197"
     },
     "user_tz": 300
    },
    "id": "9f74644a",
    "run_control": {
     "marked": false
    }
   },
   "outputs": [],
   "source": [
    "#train inputs and ouputs\n",
    "x_train = train_set['MinTemp']\n",
    "y_train = train_set['MaxTemp']\n",
    "\n",
    "#test inputs and outputs\n",
    "x_test = test_set['MinTemp']\n",
    "y_test = test_set['MaxTemp']"
   ]
  },
  {
   "cell_type": "code",
   "execution_count": null,
   "id": "vmjGLvyHrSmQ",
   "metadata": {
    "executionInfo": {
     "elapsed": 660,
     "status": "ok",
     "timestamp": 1677095428443,
     "user": {
      "displayName": "Erdi",
      "userId": "00321255967831130197"
     },
     "user_tz": 300
    },
    "id": "vmjGLvyHrSmQ"
   },
   "outputs": [],
   "source": []
  },
  {
   "cell_type": "code",
   "execution_count": 14,
   "id": "783e222a",
   "metadata": {
    "colab": {
     "base_uri": "https://localhost:8080/"
    },
    "executionInfo": {
     "elapsed": 265,
     "status": "ok",
     "timestamp": 1677095586106,
     "user": {
      "displayName": "Erdi",
      "userId": "00321255967831130197"
     },
     "user_tz": 300
    },
    "id": "783e222a",
    "outputId": "cf76000f-4a23-4354-ea8e-b8f954fc58a1",
    "run_control": {
     "marked": false
    }
   },
   "outputs": [
    {
     "name": "stdout",
     "output_type": "stream",
     "text": [
      "w:1.349506 b:1.352863\n"
     ]
    }
   ],
   "source": [
    "num_epochs = 50\n",
    "lr = 0.001\n",
    "w, b, error = FitLinearRegression(x_train,y_train,num_epochs,lr)\n",
    "print(f'w:{w:0.6f} b:{b:0.6f}')"
   ]
  },
  {
   "cell_type": "code",
   "execution_count": 15,
   "id": "873faef4",
   "metadata": {
    "colab": {
     "base_uri": "https://localhost:8080/",
     "height": 296
    },
    "executionInfo": {
     "elapsed": 472,
     "status": "ok",
     "timestamp": 1677095588188,
     "user": {
      "displayName": "Erdi",
      "userId": "00321255967831130197"
     },
     "user_tz": 300
    },
    "id": "873faef4",
    "outputId": "fc5fd545-f206-42ab-c0c9-fff97f8a9f22",
    "run_control": {
     "marked": false
    }
   },
   "outputs": [
    {
     "data": {
      "image/png": "[encoded data removed]",
      "text/plain": [
       "<Figure size 432x288 with 1 Axes>"
      ]
     },
     "metadata": {
      "needs_background": "light"
     },
     "output_type": "display_data"
    }
   ],
   "source": [
    "#carefully note that we display the test data vs predicted line\n",
    "PlotResults(x_test,y_test,w,b)"
   ]
  },
  {
   "cell_type": "code",
   "execution_count": 16,
   "id": "f2d02231",
   "metadata": {
    "colab": {
     "base_uri": "https://localhost:8080/",
     "height": 295
    },
    "executionInfo": {
     "elapsed": 254,
     "status": "ok",
     "timestamp": 1677095589785,
     "user": {
      "displayName": "Erdi",
      "userId": "00321255967831130197"
     },
     "user_tz": 300
    },
    "id": "f2d02231",
    "outputId": "596809c6-b17c-4fb3-d727-730c978ae134",
    "run_control": {
     "marked": false
    }
   },
   "outputs": [
    {
     "data": {
      "image/png": "[encoded data removed]",
      "text/plain": [
       "<Figure size 432x288 with 1 Axes>"
      ]
     },
     "metadata": {
      "needs_background": "light"
     },
     "output_type": "display_data"
    }
   ],
   "source": [
    "PlotError(error, num_epochs)"
   ]
  },
  {
   "cell_type": "markdown",
   "id": "a55ca308",
   "metadata": {
    "id": "a55ca308"
   },
   "source": [
    "- As we can see from MSE curve, the error does not change significantly after 20 epochs. Thus, training the model with 50 epochs is not an optimal choice. The better idea would identify the optimal epoch number and run the model only for say 5 epochs rather than 20. \n",
    "\n",
    "\n",
    "- In many modern machine libraries have a functionality to detect the slowdown in the error cuve so that we can stop the training early. This is called **\"early stopping\"**. This is so important in realistic applications. Imagine every epoch takes 20 hours and cost \\$50..."
   ]
  },
  {
   "cell_type": "markdown",
   "id": "617324ff",
   "metadata": {
    "id": "617324ff"
   },
   "source": [
    "# Final Remarks"
   ]
  },
  {
   "cell_type": "markdown",
   "id": "ad063b79",
   "metadata": {
    "id": "ad063b79"
   },
   "source": [
    "- For linear regression problems, the loss function can be represented by a simple paraboloid type shape for which we always have a global minimum.\n",
    "\n",
    "- We will discuss neural networks in the next section. Finding the best optimization strategy for neural networks is an active research field. Just to give an idea about what kind of loss function surface we may have, inspect the surface below. [Credit](https://www.cs.umd.edu/~tomg/projects/landscapes/)\n"
   ]
  },
  {
   "cell_type": "markdown",
   "id": "9d3f1ace",
   "metadata": {},
   "source": [
    "![gradient.png](data/vgg.png)"
   ]
  },
  {
   "cell_type": "markdown",
   "id": "4c7ebdf7",
   "metadata": {},
   "source": [
    "- In a typical problem, we have tens of parameters to be tuned, model architecture, learning rate, number of epochs, batch size, bunch of regularization parameters etc. etc. \n",
    "\n",
    "- Watch this [Loss Landscape Explorer 1.1](https://youtu.be/As9rW6wtrYk)"
   ]
  },
  {
   "cell_type": "code",
   "execution_count": null,
   "id": "ab172523",
   "metadata": {},
   "outputs": [],
   "source": []
  }
 ],
 "metadata": {
  "colab": {
   "provenance": []
  },
  "kernelspec": {
   "display_name": "Python 3 (ipykernel)",
   "language": "python",
   "name": "python3"
  },
  "language_info": {
   "codemirror_mode": {
    "name": "ipython",
    "version": 3
   },
   "file_extension": ".py",
   "mimetype": "text/x-python",
   "name": "python",
   "nbconvert_exporter": "python",
   "pygments_lexer": "ipython3",
   "version": "3.9.13"
  },
  "latex_envs": {
   "LaTeX_envs_menu_present": true,
   "autoclose": true,
   "autocomplete": true,
   "bibliofile": "biblio.bib",
   "cite_by": "apalike",
   "current_citInitial": 1,
   "eqLabelWithNumbers": true,
   "eqNumInitial": 1,
   "hotkeys": {
    "equation": "Ctrl-E",
    "itemize": "Ctrl-I"
   },
   "labels_anchors": false,
   "latex_user_defs": false,
   "report_style_numbering": false,
   "user_envs_cfg": false
  },
  "toc": {
   "base_numbering": 1,
   "nav_menu": {},
   "number_sections": true,
   "sideBar": true,
   "skip_h1_title": false,
   "title_cell": "Table of Contents",
   "title_sidebar": "Contents",
   "toc_cell": false,
   "toc_position": {},
   "toc_section_display": true,
   "toc_window_display": false
  }
 },
 "nbformat": 4,
 "nbformat_minor": 5
}
