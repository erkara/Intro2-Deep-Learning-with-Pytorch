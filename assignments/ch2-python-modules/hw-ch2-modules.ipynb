{
 "cells": [
  {
   "cell_type": "code",
   "execution_count": 1,
   "id": "ada47443",
   "metadata": {
    "id": "ada47443"
   },
   "outputs": [],
   "source": [
    "import numpy as np\n",
    "import matplotlib.pyplot as plt\n",
    "%matplotlib inline\n",
    "import pandas as pd\n",
    "import seaborn as sns\n",
    "from PIL import Image\n",
    "from PIL import ImageFilter\n",
    "\n",
    "import os\n",
    "import random"
   ]
  },
  {
   "cell_type": "markdown",
   "id": "a1234cdf",
   "metadata": {
    "id": "a1234cdf"
   },
   "source": [
    "- For each problem, provide your answer in the code cell following the question. You should test out the expected output.\n",
    "- Please do not delete the actual questions and the name of the functions if exist.\n",
    "\n",
    "- Feel free to look up online for each question. \n"
   ]
  },
  {
   "cell_type": "code",
   "execution_count": 2,
   "id": "lKQUSnn192_8",
   "metadata": {
    "colab": {
     "base_uri": "https://localhost:8080/"
    },
    "executionInfo": {
     "elapsed": 2056,
     "status": "ok",
     "timestamp": 1676058405832,
     "user": {
      "displayName": "Erdi",
      "userId": "00321255967831130197"
     },
     "user_tz": 300
    },
    "id": "lKQUSnn192_8",
    "outputId": "708587c4-ec11-4612-ac05-4a28f74c64b4"
   },
   "outputs": [],
   "source": [
    "figure_dir = 'figures/'\n",
    "animal_dir = 'animals'"
   ]
  },
  {
   "cell_type": "markdown",
   "id": "750e85c4",
   "metadata": {
    "id": "750e85c4"
   },
   "source": [
    "# Python Basics"
   ]
  },
  {
   "cell_type": "markdown",
   "id": "1af5e24b",
   "metadata": {
    "id": "1af5e24b"
   },
   "source": [
    "**Question**: Given two lists, write a Python code that multiplies all entries of the first list with the second one along with index locations. For example; for list1 = [2,4] list2 = [4,9,7], your output must look like\n",
    "\n",
    "                index1 index2 Multiplication\n",
    "                0          0         8\n",
    "                0          1         18\n",
    "                0          2         14\n",
    "                1          0         16\n",
    "                1          1         36\n",
    "                1          2         28\n",
    "\n",
    "You may use built-in *enumerate* function and *f-string* formatting for this question. "
   ]
  },
  {
   "cell_type": "code",
   "execution_count": 3,
   "id": "14065acb",
   "metadata": {
    "id": "14065acb"
   },
   "outputs": [],
   "source": [
    "#your code comes here"
   ]
  },
  {
   "cell_type": "code",
   "execution_count": null,
   "id": "3a359c86",
   "metadata": {
    "id": "3a359c86"
   },
   "outputs": [],
   "source": []
  },
  {
   "cell_type": "markdown",
   "id": "c0ff10da",
   "metadata": {
    "id": "c0ff10da"
   },
   "source": [
    "**Question** Given a list *num_list* and a number *num*, write a function to return a list of number in *num_list* that are divisible by *num*. For example if num_list=[4,12,28,6,8,0] and num=3, your output list must be [12,6,0]. Use *append* method for lists."
   ]
  },
  {
   "cell_type": "code",
   "execution_count": 4,
   "id": "bf2cc88f",
   "metadata": {
    "id": "bf2cc88f"
   },
   "outputs": [],
   "source": [
    "def DivisibleNumbers(num_list,num):\n",
    "    #your code comes here\n",
    "    pass\n",
    "    \n",
    "    return mylist"
   ]
  },
  {
   "cell_type": "markdown",
   "id": "8a3e9cd8",
   "metadata": {
    "id": "8a3e9cd8"
   },
   "source": [
    "**Question**: Write a function to calculate income tax for the given income with the following rule in the table. For example, suppose the taxable income is 45000 the income tax payable is\n",
    "\n",
    "$$10000\\times0 + 10000\\times0.1  + 25000\\times0.2 = \\$6000$$"
   ]
  },
  {
   "cell_type": "markdown",
   "id": "2c04ac76",
   "metadata": {
    "id": "2c04ac76"
   },
   "source": [
    "\\begin{array}{ccr}\n",
    "\\hline &Income & Rate(\\%)\\\\\n",
    "\\hline \n",
    "&First-10K & 0\\% \\\\\n",
    "&Next-10K & 10\\%\\\\\n",
    "&Remaining & 20\\%\\\\\n",
    "\\hline\n",
    "\\end{array}"
   ]
  },
  {
   "cell_type": "code",
   "execution_count": 5,
   "id": "2132ca68",
   "metadata": {
    "id": "2132ca68"
   },
   "outputs": [],
   "source": [
    "def IncomeTaxCalculator(income):\n",
    "    #your code comes here\n",
    "    pass\n",
    "\n",
    "    return tax_payable\n"
   ]
  },
  {
   "cell_type": "markdown",
   "id": "cb3a5c51",
   "metadata": {
    "id": "cb3a5c51"
   },
   "source": [
    "# Numpy"
   ]
  },
  {
   "cell_type": "markdown",
   "id": "da7d66eb",
   "metadata": {
    "id": "da7d66eb"
   },
   "source": [
    "**Question** Given two integers $a$ and $b$ such that $a<b$, write a function that returns all integers between  $a$ and $b$ that are divisible either by 3 or 5. For example, if a=1,b=10 then your ouput must be an array or list looking like [3,5,6,9]"
   ]
  },
  {
   "cell_type": "code",
   "execution_count": 6,
   "id": "d9726c8d",
   "metadata": {
    "id": "d9726c8d"
   },
   "outputs": [],
   "source": [
    "def ReturnDivisibles(a,b):\n",
    "    #your code comes here\n",
    "    pass\n",
    "    \n",
    "    return nums\n",
    "            "
   ]
  },
  {
   "cell_type": "markdown",
   "id": "bfc6d685",
   "metadata": {
    "id": "bfc6d685"
   },
   "source": [
    "**Question** Given two arrays $x,\\hat{x}$, the mean absolute error(mae) is defined as $$mae = \\dfrac{1}{n}\\sum_{i=1}^{n}\\dfrac{\\hat{x}_i-x_i}{x_i}$$. Write a function to return mae from two arrays. For example, for\n",
    "\n",
    "            x = np.array([1,3,4])\n",
    "            xhat = np.array([1,3,4])\n",
    "            \n",
    "            returns \n",
    "            \n",
    "            mae=0.11."
   ]
  },
  {
   "cell_type": "code",
   "execution_count": 7,
   "id": "dbd1901e",
   "metadata": {
    "id": "dbd1901e"
   },
   "outputs": [],
   "source": [
    "def mae(x,xhat):\n",
    "    #your code comes here\n",
    "    mae=x-xhat\n",
    "    pass\n",
    "\n",
    "    return mae"
   ]
  },
  {
   "cell_type": "markdown",
   "id": "16a5f3c2",
   "metadata": {
    "id": "16a5f3c2"
   },
   "source": [
    "# Matplotlib"
   ]
  },
  {
   "cell_type": "markdown",
   "id": "1a559386",
   "metadata": {
    "id": "1a559386"
   },
   "source": [
    "**Question1** Plot $y=xsin(x)$ and $y=xcos(x)$ between $[0,8\\pi]$ on the same coordinate plane. Make sure to generate the following graph.\n"
   ]
  },
  {
   "attachments": {},
   "cell_type": "markdown",
   "id": "db672266",
   "metadata": {},
   "source": [
    "![wave.png](figures/wave.png)"
   ]
  },
  {
   "cell_type": "code",
   "execution_count": 8,
   "id": "57691db5",
   "metadata": {
    "id": "57691db5"
   },
   "outputs": [],
   "source": [
    "#your code comes here\n"
   ]
  },
  {
   "cell_type": "markdown",
   "id": "7459fa46",
   "metadata": {
    "id": "7459fa46"
   },
   "source": [
    "**Question2** Plot $y=xsin(x)$ and $y=xcos(x)$ between $[0,8\\pi]$ on a 1x2 grid using object-oriented Matplotlib approach. Make sure to generate the following graph. Notice that two graphs share the y-axis. Use methods like set_xlabel, set_ylabel, etc.\n"
   ]
  },
  {
   "cell_type": "markdown",
   "id": "aabc99f8",
   "metadata": {},
   "source": [
    "![dwave.png](figures/dwave.png)"
   ]
  },
  {
   "cell_type": "code",
   "execution_count": 9,
   "id": "11319334",
   "metadata": {
    "id": "11319334"
   },
   "outputs": [],
   "source": [
    "#your code comes here\n"
   ]
  },
  {
   "cell_type": "markdown",
   "id": "9e4a99b9",
   "metadata": {
    "id": "9e4a99b9"
   },
   "source": [
    "# Pandas"
   ]
  },
  {
   "cell_type": "markdown",
   "id": "9d30ea40",
   "metadata": {
    "id": "9d30ea40"
   },
   "source": [
    "We will be working on \"insurance\"d dataset. Here are the columns\n",
    "    \n",
    "        age: age of primary user.\n",
    "        sex: gender.\n",
    "        bmi: Body Mass Index, ideally between 18.5 and 24.9\n",
    "        children: number of children/dependents\n",
    "        smoker: smoking or not\n",
    "        region: the beneficiary's residential area in the US.\n",
    "        charges: total premium billed by health insurance\n"
   ]
  },
  {
   "cell_type": "code",
   "execution_count": 10,
   "id": "e718c959",
   "metadata": {
    "colab": {
     "base_uri": "https://localhost:8080/",
     "height": 206
    },
    "executionInfo": {
     "elapsed": 324,
     "status": "ok",
     "timestamp": 1675881386380,
     "user": {
      "displayName": "Erdi",
      "userId": "00321255967831130197"
     },
     "user_tz": 300
    },
    "id": "e718c959",
    "outputId": "bcecc5a5-725c-4e0d-e603-a6145ecf2cab"
   },
   "outputs": [
    {
     "data": {
      "text/html": [
       "<div>\n",
       "<style scoped>\n",
       "    .dataframe tbody tr th:only-of-type {\n",
       "        vertical-align: middle;\n",
       "    }\n",
       "\n",
       "    .dataframe tbody tr th {\n",
       "        vertical-align: top;\n",
       "    }\n",
       "\n",
       "    .dataframe thead th {\n",
       "        text-align: right;\n",
       "    }\n",
       "</style>\n",
       "<table border=\"1\" class=\"dataframe\">\n",
       "  <thead>\n",
       "    <tr style=\"text-align: right;\">\n",
       "      <th></th>\n",
       "      <th>age</th>\n",
       "      <th>sex</th>\n",
       "      <th>bmi</th>\n",
       "      <th>children</th>\n",
       "      <th>smoker</th>\n",
       "      <th>region</th>\n",
       "      <th>charges</th>\n",
       "    </tr>\n",
       "  </thead>\n",
       "  <tbody>\n",
       "    <tr>\n",
       "      <th>0</th>\n",
       "      <td>19</td>\n",
       "      <td>female</td>\n",
       "      <td>27.900</td>\n",
       "      <td>0</td>\n",
       "      <td>yes</td>\n",
       "      <td>southwest</td>\n",
       "      <td>16884.92400</td>\n",
       "    </tr>\n",
       "    <tr>\n",
       "      <th>1</th>\n",
       "      <td>18</td>\n",
       "      <td>male</td>\n",
       "      <td>33.770</td>\n",
       "      <td>1</td>\n",
       "      <td>no</td>\n",
       "      <td>southeast</td>\n",
       "      <td>1725.55230</td>\n",
       "    </tr>\n",
       "    <tr>\n",
       "      <th>2</th>\n",
       "      <td>28</td>\n",
       "      <td>male</td>\n",
       "      <td>33.000</td>\n",
       "      <td>3</td>\n",
       "      <td>no</td>\n",
       "      <td>southeast</td>\n",
       "      <td>4449.46200</td>\n",
       "    </tr>\n",
       "    <tr>\n",
       "      <th>3</th>\n",
       "      <td>33</td>\n",
       "      <td>male</td>\n",
       "      <td>22.705</td>\n",
       "      <td>0</td>\n",
       "      <td>no</td>\n",
       "      <td>northwest</td>\n",
       "      <td>21984.47061</td>\n",
       "    </tr>\n",
       "    <tr>\n",
       "      <th>4</th>\n",
       "      <td>32</td>\n",
       "      <td>male</td>\n",
       "      <td>28.880</td>\n",
       "      <td>0</td>\n",
       "      <td>no</td>\n",
       "      <td>northwest</td>\n",
       "      <td>3866.85520</td>\n",
       "    </tr>\n",
       "  </tbody>\n",
       "</table>\n",
       "</div>"
      ],
      "text/plain": [
       "   age     sex     bmi  children smoker     region      charges\n",
       "0   19  female  27.900         0    yes  southwest  16884.92400\n",
       "1   18    male  33.770         1     no  southeast   1725.55230\n",
       "2   28    male  33.000         3     no  southeast   4449.46200\n",
       "3   33    male  22.705         0     no  northwest  21984.47061\n",
       "4   32    male  28.880         0     no  northwest   3866.85520"
      ]
     },
     "execution_count": 10,
     "metadata": {},
     "output_type": "execute_result"
    }
   ],
   "source": [
    "df = pd.read_csv(\"figures/insurance.csv\")\n",
    "df.head()"
   ]
  },
  {
   "cell_type": "markdown",
   "id": "743e236e",
   "metadata": {
    "id": "743e236e"
   },
   "source": [
    "**Question**: Use *describe* function to answer the following question\n",
    "\n",
    "1- What is min/max/mean age--> answer\n",
    "\n",
    "\n",
    "2- What is the min/max/mean body-mass-index ---> answer"
   ]
  },
  {
   "cell_type": "code",
   "execution_count": 11,
   "id": "5508dc79",
   "metadata": {
    "id": "5508dc79"
   },
   "outputs": [],
   "source": [
    "#your code comes here\n"
   ]
  },
  {
   "cell_type": "markdown",
   "id": "526d593b",
   "metadata": {
    "id": "526d593b"
   },
   "source": [
    "**Question** How many males/females are there? Find the number of people for each region. Use *value_counts* function."
   ]
  },
  {
   "cell_type": "code",
   "execution_count": null,
   "id": "665a9690",
   "metadata": {
    "id": "665a9690"
   },
   "outputs": [],
   "source": []
  },
  {
   "cell_type": "markdown",
   "id": "f8e8c952",
   "metadata": {
    "id": "f8e8c952"
   },
   "source": [
    "**Question**: Display all females older than 63. How many such entries are there? What is their average charge?"
   ]
  },
  {
   "cell_type": "code",
   "execution_count": 12,
   "id": "2888d02f",
   "metadata": {
    "id": "2888d02f"
   },
   "outputs": [],
   "source": [
    "#code comes here\n"
   ]
  },
  {
   "cell_type": "markdown",
   "id": "3221fea7",
   "metadata": {
    "id": "3221fea7"
   },
   "source": [
    "What is the average charge of smoker males vs non-smoker males?"
   ]
  },
  {
   "cell_type": "code",
   "execution_count": 13,
   "id": "9ce677f1",
   "metadata": {
    "id": "9ce677f1"
   },
   "outputs": [],
   "source": [
    "#your code comes here. Two lines of code\n"
   ]
  },
  {
   "cell_type": "markdown",
   "id": "f1aefa96",
   "metadata": {
    "id": "f1aefa96"
   },
   "source": [
    "**Question** Use seaborn to plot the males/females count as histogram plot. Use shrink=0.6 option. Obtain the following graphs."
   ]
  },
  {
   "cell_type": "markdown",
   "id": "48919cee",
   "metadata": {},
   "source": [
    "![inssex.png](figures/inssex.png)"
   ]
  },
  {
   "cell_type": "code",
   "execution_count": 15,
   "id": "36cacb2f",
   "metadata": {
    "id": "36cacb2f"
   },
   "outputs": [],
   "source": [
    "#your code comes here for gender\n"
   ]
  },
  {
   "cell_type": "code",
   "execution_count": 16,
   "id": "b0cbf07a",
   "metadata": {
    "id": "b0cbf07a"
   },
   "outputs": [],
   "source": [
    "#your code comes here for region\n"
   ]
  },
  {
   "cell_type": "markdown",
   "id": "69acc5f8",
   "metadata": {
    "id": "69acc5f8"
   },
   "source": [
    "**Question** Learn how to use *pairplot* function of Seaborn. Use this function to create a scatter plot of age and bmi vs charges. Use smoker column as a *hue* variable. How do you interpret this scatter plot? Your graph should like like"
   ]
  },
  {
   "cell_type": "markdown",
   "id": "eb463f91",
   "metadata": {},
   "source": [
    "![smoke.png](figures/smoke.png)"
   ]
  },
  {
   "cell_type": "code",
   "execution_count": 17,
   "id": "ff52dd9b",
   "metadata": {
    "id": "ff52dd9b"
   },
   "outputs": [],
   "source": [
    "#your code comes here\n"
   ]
  },
  {
   "cell_type": "markdown",
   "id": "__m6qPfBMEla",
   "metadata": {
    "id": "__m6qPfBMEla"
   },
   "source": [
    "- It is possible to download your own Netflix data. Click [here](https://www.netflix.com/account/getmyinfo) to submit a request to download your data. You can actually access your Amazon and Facebook data similarly. Especially Amazon data can scare the hell out of you!\n",
    "When you download and unzip Netflix one, it will look like as follows. Headers are explained in \"Cover sheet\".\n",
    "\n",
    "\n"
   ]
  },
  {
   "cell_type": "markdown",
   "id": "02f73af4",
   "metadata": {},
   "source": [
    "![netflix.jpg](figures/netflix.jpg)"
   ]
  },
  {
   "cell_type": "markdown",
   "id": "RztKYXDCNUeT",
   "metadata": {
    "id": "RztKYXDCNUeT"
   },
   "source": [
    "- The one we will use is a small version of it. This is how a real data looks like, messy and nasty.\n",
    "\n",
    "- You will do some data cleaning. Perform the following steps using appopriate pandas commands."
   ]
  },
  {
   "cell_type": "code",
   "execution_count": 18,
   "id": "EL6qmpYZMJEK",
   "metadata": {
    "colab": {
     "base_uri": "https://localhost:8080/",
     "height": 354
    },
    "executionInfo": {
     "elapsed": 20,
     "status": "ok",
     "timestamp": 1675881386657,
     "user": {
      "displayName": "Erdi",
      "userId": "00321255967831130197"
     },
     "user_tz": 300
    },
    "id": "EL6qmpYZMJEK",
    "outputId": "0235a524-ba83-4046-c0e9-9b87b5bd6ace"
   },
   "outputs": [
    {
     "data": {
      "text/html": [
       "<div>\n",
       "<style scoped>\n",
       "    .dataframe tbody tr th:only-of-type {\n",
       "        vertical-align: middle;\n",
       "    }\n",
       "\n",
       "    .dataframe tbody tr th {\n",
       "        vertical-align: top;\n",
       "    }\n",
       "\n",
       "    .dataframe thead th {\n",
       "        text-align: right;\n",
       "    }\n",
       "</style>\n",
       "<table border=\"1\" class=\"dataframe\">\n",
       "  <thead>\n",
       "    <tr style=\"text-align: right;\">\n",
       "      <th></th>\n",
       "      <th>Profile Name</th>\n",
       "      <th>Start Time</th>\n",
       "      <th>Duration</th>\n",
       "      <th>Attributes</th>\n",
       "      <th>Title</th>\n",
       "      <th>Supplemental Video Type</th>\n",
       "      <th>Device Type</th>\n",
       "      <th>Bookmark</th>\n",
       "      <th>Latest Bookmark</th>\n",
       "      <th>Country</th>\n",
       "    </tr>\n",
       "  </thead>\n",
       "  <tbody>\n",
       "    <tr>\n",
       "      <th>0</th>\n",
       "      <td>Charlie</td>\n",
       "      <td>2013-03-20 5:17:53</td>\n",
       "      <td>0:00:05</td>\n",
       "      <td>NaN</td>\n",
       "      <td>Star Trek: Deep Space Nine: Season 5: Empok No...</td>\n",
       "      <td>NaN</td>\n",
       "      <td>Mac</td>\n",
       "      <td>0:00:05</td>\n",
       "      <td>Not latest view</td>\n",
       "      <td>US (United States)</td>\n",
       "    </tr>\n",
       "    <tr>\n",
       "      <th>1</th>\n",
       "      <td>Charlie</td>\n",
       "      <td>2013-03-20 4:27:45</td>\n",
       "      <td>0:44:31</td>\n",
       "      <td>NaN</td>\n",
       "      <td>Star Trek: Deep Space Nine: Season 5: Blaze of...</td>\n",
       "      <td>NaN</td>\n",
       "      <td>Mac</td>\n",
       "      <td>0:44:31</td>\n",
       "      <td>Not latest view</td>\n",
       "      <td>US (United States)</td>\n",
       "    </tr>\n",
       "    <tr>\n",
       "      <th>2</th>\n",
       "      <td>Charlie</td>\n",
       "      <td>2013-03-20 4:05:21</td>\n",
       "      <td>0:22:06</td>\n",
       "      <td>NaN</td>\n",
       "      <td>Star Trek: Deep Space Nine: Season 5: Children...</td>\n",
       "      <td>NaN</td>\n",
       "      <td>Mac</td>\n",
       "      <td>0:44:37</td>\n",
       "      <td>0:44:37</td>\n",
       "      <td>US (United States)</td>\n",
       "    </tr>\n",
       "    <tr>\n",
       "      <th>3</th>\n",
       "      <td>Charlie</td>\n",
       "      <td>2013-03-20 0:20:03</td>\n",
       "      <td>0:48:14</td>\n",
       "      <td>NaN</td>\n",
       "      <td>The Invisible War</td>\n",
       "      <td>NaN</td>\n",
       "      <td>Microsoft Xbox 360</td>\n",
       "      <td>0:53:18</td>\n",
       "      <td>0:53:18</td>\n",
       "      <td>US (United States)</td>\n",
       "    </tr>\n",
       "    <tr>\n",
       "      <th>4</th>\n",
       "      <td>Charlie</td>\n",
       "      <td>2013-03-20 0:10:31</td>\n",
       "      <td>0:04:51</td>\n",
       "      <td>NaN</td>\n",
       "      <td>The Invisible War</td>\n",
       "      <td>NaN</td>\n",
       "      <td>Mac</td>\n",
       "      <td>0:05:01</td>\n",
       "      <td>Not latest view</td>\n",
       "      <td>US (United States)</td>\n",
       "    </tr>\n",
       "  </tbody>\n",
       "</table>\n",
       "</div>"
      ],
      "text/plain": [
       "  Profile Name          Start Time Duration  Attributes  \\\n",
       "0      Charlie  2013-03-20 5:17:53  0:00:05         NaN   \n",
       "1      Charlie  2013-03-20 4:27:45  0:44:31         NaN   \n",
       "2      Charlie  2013-03-20 4:05:21  0:22:06         NaN   \n",
       "3      Charlie  2013-03-20 0:20:03  0:48:14         NaN   \n",
       "4      Charlie  2013-03-20 0:10:31  0:04:51         NaN   \n",
       "\n",
       "                                               Title  Supplemental Video Type  \\\n",
       "0  Star Trek: Deep Space Nine: Season 5: Empok No...                      NaN   \n",
       "1  Star Trek: Deep Space Nine: Season 5: Blaze of...                      NaN   \n",
       "2  Star Trek: Deep Space Nine: Season 5: Children...                      NaN   \n",
       "3                                  The Invisible War                      NaN   \n",
       "4                                  The Invisible War                      NaN   \n",
       "\n",
       "          Device Type Bookmark  Latest Bookmark             Country  \n",
       "0                 Mac  0:00:05  Not latest view  US (United States)  \n",
       "1                 Mac  0:44:31  Not latest view  US (United States)  \n",
       "2                 Mac  0:44:37          0:44:37  US (United States)  \n",
       "3  Microsoft Xbox 360  0:53:18          0:53:18  US (United States)  \n",
       "4                 Mac  0:05:01  Not latest view  US (United States)  "
      ]
     },
     "execution_count": 18,
     "metadata": {},
     "output_type": "execute_result"
    }
   ],
   "source": [
    "df = pd.read_csv('figures/ViewingActivity-sample.csv')\n",
    "df.head()"
   ]
  },
  {
   "cell_type": "markdown",
   "id": "X5TTYUHZOvRf",
   "metadata": {
    "id": "X5TTYUHZOvRf"
   },
   "source": [
    "1. Drop the following columns; *'Profile Name','Attributes','Supplemental Video Type', 'Device Type','Bookmark', 'Latest Bookmark', 'Country'*\n"
   ]
  },
  {
   "cell_type": "code",
   "execution_count": 19,
   "id": "dAAiPddzOv1o",
   "metadata": {
    "id": "dAAiPddzOv1o"
   },
   "outputs": [],
   "source": [
    "#your code comes here\n"
   ]
  },
  {
   "cell_type": "markdown",
   "id": "XVOrkSDPOwLH",
   "metadata": {
    "id": "XVOrkSDPOwLH"
   },
   "source": [
    "2. Start time is given in terms of Universal Coordinated Time (UTC) format which is YYYY-MM-DDT hh:mm:ss Convert this to Eastern time zone.\n"
   ]
  },
  {
   "cell_type": "code",
   "execution_count": 20,
   "id": "0klk_xwIOwS4",
   "metadata": {
    "id": "0klk_xwIOwS4"
   },
   "outputs": [],
   "source": [
    "#your code comes here\n"
   ]
  },
  {
   "cell_type": "markdown",
   "id": "3I_fiRoIOwZb",
   "metadata": {
    "id": "3I_fiRoIOwZb"
   },
   "source": [
    "\n",
    "3. Seperate the show name and its episode. In other words, create a new columns names \"ShowName\" where you have only the name of the show there and 'Title' column will hold only the episode name."
   ]
  },
  {
   "cell_type": "code",
   "execution_count": 21,
   "id": "cHoZen-JPr0E",
   "metadata": {
    "id": "cHoZen-JPr0E"
   },
   "outputs": [],
   "source": [
    "#your code comes here\n"
   ]
  },
  {
   "cell_type": "markdown",
   "id": "3ns90STAPr6j",
   "metadata": {
    "id": "3ns90STAPr6j"
   },
   "source": [
    "After these 3 stages, your code will look like as follows;"
   ]
  },
  {
   "cell_type": "markdown",
   "id": "f834843c",
   "metadata": {},
   "source": [
    "![net.png](figures/net.png)"
   ]
  },
  {
   "cell_type": "markdown",
   "id": "_nolFRz0PsFx",
   "metadata": {
    "id": "_nolFRz0PsFx"
   },
   "source": [
    "- Now you cleaned the data. Answer the following question using your cleaned data.\n",
    "\n",
    "1. How many days does this data cover?\n",
    "2. How many hours did this person spent watching Netflix in this data frame?\n",
    "3. Which shows and movies watched in this time period?\n",
    "4. How many hours did he spend on each show/movie?\n",
    "5. Which days did he watch the Office most?\n",
    "6. Which hours did he watch most? What does the result tell us about his lifestyle in that period?"
   ]
  },
  {
   "cell_type": "code",
   "execution_count": 22,
   "id": "TZ5om40qRmh2",
   "metadata": {
    "id": "TZ5om40qRmh2"
   },
   "outputs": [],
   "source": [
    "#1 comes here\n"
   ]
  },
  {
   "cell_type": "code",
   "execution_count": 23,
   "id": "dZeMnmLfRm7e",
   "metadata": {
    "id": "dZeMnmLfRm7e"
   },
   "outputs": [],
   "source": [
    "#2 comes here\n"
   ]
  },
  {
   "cell_type": "code",
   "execution_count": 24,
   "id": "VZFJKYAMRnKA",
   "metadata": {
    "id": "VZFJKYAMRnKA"
   },
   "outputs": [],
   "source": [
    "#3 comes here\n"
   ]
  },
  {
   "cell_type": "code",
   "execution_count": 25,
   "id": "WhgawjAeRnX_",
   "metadata": {
    "id": "WhgawjAeRnX_"
   },
   "outputs": [],
   "source": [
    "#4 comes here\n"
   ]
  },
  {
   "cell_type": "code",
   "execution_count": 26,
   "id": "HseB8--DSbiH",
   "metadata": {
    "id": "HseB8--DSbiH"
   },
   "outputs": [],
   "source": [
    "#5 comes here\n"
   ]
  },
  {
   "cell_type": "code",
   "execution_count": 27,
   "id": "fX_Kqc7GSb8C",
   "metadata": {
    "id": "fX_Kqc7GSb8C"
   },
   "outputs": [],
   "source": [
    "#6 comes here\n"
   ]
  },
  {
   "cell_type": "code",
   "execution_count": null,
   "id": "9oLo0_yhScBj",
   "metadata": {
    "id": "9oLo0_yhScBj"
   },
   "outputs": [],
   "source": []
  },
  {
   "cell_type": "markdown",
   "id": "8d987576",
   "metadata": {
    "id": "8d987576"
   },
   "source": [
    "# Image Processing"
   ]
  },
  {
   "cell_type": "markdown",
   "id": "6682c594",
   "metadata": {
    "id": "6682c594"
   },
   "source": [
    "We have a sample image as follows. Answer some questions regarding this image using PIL functions. Use the same cells with the question to enter your answers."
   ]
  },
  {
   "cell_type": "code",
   "execution_count": 28,
   "id": "7c7e49c0",
   "metadata": {
    "colab": {
     "base_uri": "https://localhost:8080/",
     "height": 248
    },
    "executionInfo": {
     "elapsed": 316,
     "status": "ok",
     "timestamp": 1675881386964,
     "user": {
      "displayName": "Erdi",
      "userId": "00321255967831130197"
     },
     "user_tz": 300
    },
    "id": "7c7e49c0",
    "outputId": "35a09760-eda2-4298-9ce1-efdc40f77050"
   },
   "outputs": [
    {
     "data": {
      "image/png": "[encoded data removed]",
      "text/plain": [
       "<Figure size 432x288 with 1 Axes>"
      ]
     },
     "metadata": {
      "needs_background": "light"
     },
     "output_type": "display_data"
    }
   ],
   "source": [
    "img = Image.open(\"figures/chipmonk.jpg\")\n",
    "plt.imshow(img)\n",
    "plt.show()"
   ]
  },
  {
   "cell_type": "markdown",
   "id": "5957e446",
   "metadata": {
    "id": "5957e446"
   },
   "source": [
    "**Question** What is width and hight of this image?"
   ]
  },
  {
   "cell_type": "code",
   "execution_count": 29,
   "id": "da40d0c3",
   "metadata": {
    "id": "da40d0c3"
   },
   "outputs": [],
   "source": [
    "#code comes here\n"
   ]
  },
  {
   "cell_type": "markdown",
   "id": "2ab45873",
   "metadata": {
    "id": "2ab45873"
   },
   "source": [
    "**Question** Rotate this image 45 degrees and display. Why do we have black spots around the rotated image?It should look like"
   ]
  },
  {
   "cell_type": "markdown",
   "id": "a9abe0d0",
   "metadata": {},
   "source": [
    "![rotate.png](figures/rotate.png)"
   ]
  },
  {
   "cell_type": "code",
   "execution_count": 30,
   "id": "62f77cdd",
   "metadata": {
    "id": "62f77cdd"
   },
   "outputs": [],
   "source": [
    "#code comes here\n",
    "\n"
   ]
  },
  {
   "cell_type": "markdown",
   "id": "173a847e",
   "metadata": {
    "id": "173a847e"
   },
   "source": [
    "**Question** Convert the image to gray-scale and display. It should look like \n"
   ]
  },
  {
   "cell_type": "markdown",
   "id": "c9be8e19",
   "metadata": {},
   "source": [
    "![grey.png](figures/grey.png)"
   ]
  },
  {
   "cell_type": "code",
   "execution_count": 31,
   "id": "b41c3239",
   "metadata": {
    "id": "b41c3239",
    "scrolled": true
   },
   "outputs": [],
   "source": [
    "#code comes here\n"
   ]
  },
  {
   "cell_type": "markdown",
   "id": "bf19e8a5",
   "metadata": {
    "id": "bf19e8a5"
   },
   "source": [
    "**Question**  Blur the image. Sample is below"
   ]
  },
  {
   "cell_type": "markdown",
   "id": "f02be066",
   "metadata": {},
   "source": [
    "![blur.png](figures/blur.png)"
   ]
  },
  {
   "cell_type": "code",
   "execution_count": 32,
   "id": "baef29af",
   "metadata": {
    "id": "baef29af"
   },
   "outputs": [],
   "source": [
    "#code comes here\n"
   ]
  },
  {
   "cell_type": "markdown",
   "id": "c57dbb88",
   "metadata": {
    "id": "c57dbb88"
   },
   "source": [
    "**Question** Find and display the edges in the image. Sample below;"
   ]
  },
  {
   "cell_type": "markdown",
   "id": "56dd61ff",
   "metadata": {},
   "source": [
    "![edge.png](figures/edge.png)"
   ]
  },
  {
   "cell_type": "code",
   "execution_count": 33,
   "id": "e2727fd5",
   "metadata": {
    "id": "e2727fd5"
   },
   "outputs": [],
   "source": [
    "#code comes here\n",
    "\n"
   ]
  },
  {
   "cell_type": "markdown",
   "id": "bf52d305",
   "metadata": {
    "id": "bf52d305"
   },
   "source": [
    "# Misc Problems"
   ]
  },
  {
   "cell_type": "markdown",
   "id": "0061de0f",
   "metadata": {
    "id": "0061de0f"
   },
   "source": [
    "- Start this problem at the very end. In \"figures/animals\" folder, we have 6 folders ['wolf', 'fox', 'cheetah', 'tiger', 'lion', 'hyena'] including the corresponding animal pictures in it. We will carry out some tasks on this folder\n",
    "\n",
    "- To do this, we will use Python *os* module. In particular *os.walk* command. Watch the tutorial [here](https://www.youtube.com/watch?v=NEeYDqNXBzM&t=194s) to see how it works. "
   ]
  },
  {
   "cell_type": "markdown",
   "id": "9fec5883",
   "metadata": {
    "id": "9fec5883"
   },
   "source": [
    "**Task-1**: Write a code to count the number of images in each folder and then plot folder names(animal classes) vs number of images in each class. Modify the following code to achieve this task. Your plot must look like as follows."
   ]
  },
  {
   "cell_type": "markdown",
   "id": "271948be",
   "metadata": {},
   "source": [
    "![animalbar.png](figures/animalbar.png)"
   ]
  },
  {
   "cell_type": "code",
   "execution_count": 34,
   "id": "e9b18abe",
   "metadata": {
    "id": "e9b18abe"
   },
   "outputs": [],
   "source": [
    "root_dir = \"figures/animals/\"\n",
    "for (dirpath, dirnames, filenames) in os.walk(root_dir):\n",
    "    #code comes here\n",
    "    pass\n",
    "    \n",
    "\n",
    "#then plot using \"plt.bar\""
   ]
  },
  {
   "cell_type": "code",
   "execution_count": null,
   "id": "d0e7015c",
   "metadata": {
    "id": "d0e7015c"
   },
   "outputs": [],
   "source": []
  },
  {
   "cell_type": "markdown",
   "id": "b57f3561",
   "metadata": {
    "id": "b57f3561"
   },
   "source": [
    "**Task-2**: Write a routine to save all the image paths in a list. You will use os.walk for this task and random module to shuffle the list. For example, some elements from your list must look like\n",
    "\n",
    "          ['figures/animals/cheetah/00000580_512resized.png',\n",
    "          'figures/animals/lion/00000101_512resized.png',\n",
    "          'figures/animals/lion/00000075_512resized.png',\n",
    "          'figures/animals/cheetah/00000595_512resized.png',\n",
    "          'figures/animals/cheetah/00000587_512resized.png'\n",
    "          .........]\n"
   ]
  },
  {
   "cell_type": "code",
   "execution_count": 35,
   "id": "fd823493",
   "metadata": {
    "id": "fd823493"
   },
   "outputs": [],
   "source": [
    "image_paths = []\n",
    "for (dirpath, dirnames, filenames) in os.walk(root_dir):\n",
    "    #code comes here\n",
    "    pass"
   ]
  },
  {
   "cell_type": "markdown",
   "id": "da955a95",
   "metadata": {
    "id": "da955a95"
   },
   "source": [
    "**Task3** Based on task2, given a *random* number $n$, we would like to display $n^2$ images in a $n\\times n$ grid. To do that,pick image paths from the list in task2  and display in a grid. For example, if n=3, display 3*3=9 random images taken from that list. Each image title must be the corresponding animal name. Replicate something like;\n"
   ]
  },
  {
   "cell_type": "markdown",
   "id": "13e8e35c",
   "metadata": {},
   "source": [
    "![grid.png](figures/grid.png)"
   ]
  },
  {
   "cell_type": "code",
   "execution_count": 36,
   "id": "1522cbbd",
   "metadata": {
    "id": "1522cbbd"
   },
   "outputs": [],
   "source": [
    "#code comes here\n"
   ]
  },
  {
   "cell_type": "markdown",
   "id": "6b92ae87",
   "metadata": {
    "id": "6b92ae87"
   },
   "source": [
    "# Collaboration Statement"
   ]
  },
  {
   "cell_type": "markdown",
   "id": "8b574dcd",
   "metadata": {
    "id": "8b574dcd"
   },
   "source": [
    "Clearly indicate the contributions of each group member.\n",
    "\n",
    "\n",
    "- Member1 Name:\n",
    "\n",
    "\n",
    "\n",
    "\n",
    "- Member2 Name:\n",
    "\n",
    "\n",
    "\n",
    "- Member3 Name:"
   ]
  },
  {
   "cell_type": "code",
   "execution_count": null,
   "id": "3777d7ed",
   "metadata": {
    "id": "3777d7ed"
   },
   "outputs": [],
   "source": []
  },
  {
   "cell_type": "code",
   "execution_count": null,
   "id": "d52e310d",
   "metadata": {
    "id": "d52e310d"
   },
   "outputs": [],
   "source": []
  }
 ],
 "metadata": {
  "colab": {
   "provenance": [],
   "toc_visible": true
  },
  "kernelspec": {
   "display_name": "Python 3 (ipykernel)",
   "language": "python",
   "name": "python3"
  },
  "language_info": {
   "codemirror_mode": {
    "name": "ipython",
    "version": 3
   },
   "file_extension": ".py",
   "mimetype": "text/x-python",
   "name": "python",
   "nbconvert_exporter": "python",
   "pygments_lexer": "ipython3",
   "version": "3.9.13"
  },
  "latex_envs": {
   "LaTeX_envs_menu_present": true,
   "autoclose": false,
   "autocomplete": false,
   "bibliofile": "biblio.bib",
   "cite_by": "apalike",
   "current_citInitial": 1,
   "eqLabelWithNumbers": true,
   "eqNumInitial": 1,
   "hotkeys": {
    "equation": "Ctrl-E",
    "itemize": "Ctrl-I"
   },
   "labels_anchors": false,
   "latex_user_defs": false,
   "report_style_numbering": false,
   "user_envs_cfg": false
  },
  "toc": {
   "base_numbering": 1,
   "nav_menu": {},
   "number_sections": true,
   "sideBar": true,
   "skip_h1_title": false,
   "title_cell": "Table of Contents",
   "title_sidebar": "Contents",
   "toc_cell": false,
   "toc_position": {},
   "toc_section_display": true,
   "toc_window_display": true
  }
 },
 "nbformat": 4,
 "nbformat_minor": 5
}
