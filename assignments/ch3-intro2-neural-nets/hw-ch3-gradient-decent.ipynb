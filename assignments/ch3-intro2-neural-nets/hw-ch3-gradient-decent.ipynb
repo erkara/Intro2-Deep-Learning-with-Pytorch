{
 "cells": [
  {
   "cell_type": "markdown",
   "id": "cac1a191",
   "metadata": {
    "id": "cac1a191"
   },
   "source": [
    "<font size=\"+2\">**DEADLINE: MARCH 31, FRIDAY, 11.59PM**</font>"
   ]
  },
  {
   "cell_type": "markdown",
   "id": "6b450fe6",
   "metadata": {
    "id": "6b450fe6"
   },
   "source": [
    "<font size=\"+1\">**Questions about the normal equations and correlation matrix must be submitted as a separate pdf file. Just drop it in the same folder with your assignment**</font>"
   ]
  },
  {
   "cell_type": "markdown",
   "id": "cfc8ba54",
   "metadata": {
    "id": "cfc8ba54"
   },
   "source": [
    "# Gradient Decent"
   ]
  },
  {
   "cell_type": "code",
   "execution_count": 1,
   "id": "mXDvE6Y6fYmF",
   "metadata": {
    "colab": {
     "base_uri": "https://localhost:8080/"
    },
    "executionInfo": {
     "elapsed": 15999,
     "status": "ok",
     "timestamp": 1679273350290,
     "user": {
      "displayName": "Erdi",
      "userId": "00321255967831130197"
     },
     "user_tz": 240
    },
    "id": "mXDvE6Y6fYmF",
    "outputId": "51f6e0f5-85f7-4408-ecd1-63592d4d714e"
   },
   "outputs": [],
   "source": [
    "colab = False\n",
    "if colab:\n",
    "    from google.colab import drive\n",
    "    drive.mount('/content/drive')\n",
    "else:\n",
    "    pass"
   ]
  },
  {
   "cell_type": "code",
   "execution_count": 2,
   "id": "J9Vn5cdbfzsc",
   "metadata": {
    "executionInfo": {
     "elapsed": 180,
     "status": "ok",
     "timestamp": 1679273467842,
     "user": {
      "displayName": "Erdi",
      "userId": "00321255967831130197"
     },
     "user_tz": 240
    },
    "id": "J9Vn5cdbfzsc"
   },
   "outputs": [],
   "source": [
    "#make sure to fix your path to ads_data.csv\n",
    "if colab:\n",
    "    !cp \"/content/drive/MyDrive/Intro2DeepLearning/0class-materials/assignments/ch3-intro2-neural-nets/ads_data.csv\" -d '/content'\n",
    "else:\n",
    "    pass"
   ]
  },
  {
   "cell_type": "code",
   "execution_count": 3,
   "id": "6fda8b19",
   "metadata": {
    "executionInfo": {
     "elapsed": 151,
     "status": "ok",
     "timestamp": 1679273469007,
     "user": {
      "displayName": "Erdi",
      "userId": "00321255967831130197"
     },
     "user_tz": 240
    },
    "id": "6fda8b19"
   },
   "outputs": [],
   "source": [
    "import numpy as np\n",
    "import matplotlib.pyplot as plt\n",
    "from math import pi"
   ]
  },
  {
   "cell_type": "markdown",
   "id": "9712264f",
   "metadata": {
    "id": "9712264f"
   },
   "source": [
    "**Qestion1**: Consider the following function. $$\\mathbf{f(x,y)=xsin(4\\pi(x-1))}$$ defined on $[0,2]$.\n",
    "\n",
    "(1) Write this expression and its derivative as a Python function. "
   ]
  },
  {
   "cell_type": "code",
   "execution_count": null,
   "id": "dd93a2c3",
   "metadata": {
    "id": "dd93a2c3"
   },
   "outputs": [],
   "source": [
    "#(1) comes here\n",
    "def fun(x):\n",
    "    #define your function\n",
    "   \n",
    "    \n",
    "    \n",
    "\n",
    "def funder(x):\n",
    "    #define derivative here\n",
    "    \n",
    "    \n"
   ]
  },
  {
   "cell_type": "markdown",
   "id": "d16dfaf9",
   "metadata": {
    "id": "d16dfaf9"
   },
   "source": [
    "(2) Plot $f(x)$ between $[0,2]$, show the gridlines in the graph."
   ]
  },
  {
   "cell_type": "code",
   "execution_count": null,
   "id": "b9b6ea13",
   "metadata": {
    "id": "b9b6ea13"
   },
   "outputs": [],
   "source": [
    "#(2) comes here \n",
    "\n"
   ]
  },
  {
   "cell_type": "markdown",
   "id": "b3b1548b",
   "metadata": {
    "id": "b3b1548b"
   },
   "source": [
    "(3) Write a function to implement gradient decent to find the minimizer of this function. Your function must         accept *learning rate(lr)*, * initial point(x0)* and *number of epochs(num_epoch)* as inputs and it must return the minimizer and the minimum value found. Use the template given below."
   ]
  },
  {
   "cell_type": "code",
   "execution_count": null,
   "id": "f7abb095",
   "metadata": {
    "id": "f7abb095"
   },
   "outputs": [],
   "source": [
    "#(3) comes here\n",
    "def gradient_decent(x,x0,lr,num_epoch):\n",
    "    #implement gradient decent\n",
    "    \"\"\" inputs-->  x0:initial guess, lr:learning rate, num_epoch: numbe of epochs\n",
    "        outputs-->  xmin: minimizer found, ymin: f(xmin)\n",
    "    \"\"\"\n",
    "    \n",
    "    return xmin,ymin"
   ]
  },
  {
   "cell_type": "code",
   "execution_count": null,
   "id": "df5a6a21",
   "metadata": {
    "id": "df5a6a21"
   },
   "outputs": [],
   "source": []
  },
  {
   "cell_type": "markdown",
   "id": "516b2f28",
   "metadata": {
    "id": "516b2f28"
   },
   "source": [
    "(4) Plot the function and the (minimizer,minimum point) on the same graph. Did you find the global minimum? Change your input parameters and comment on their effects on the gradient decent."
   ]
  },
  {
   "cell_type": "code",
   "execution_count": null,
   "id": "e157abb7",
   "metadata": {
    "id": "e157abb7"
   },
   "outputs": [],
   "source": [
    "#(4) comes here\n",
    "\n",
    "\n",
    "\n"
   ]
  },
  {
   "cell_type": "markdown",
   "id": "7ab64406",
   "metadata": {
    "id": "7ab64406"
   },
   "source": [
    "Discuss what type of changes you made in (4) and explain how/why these changes effected your results.\n",
    "\n",
    "\n",
    "\n",
    "\n",
    "\n",
    "\n",
    "\n",
    "\n",
    "\n"
   ]
  },
  {
   "cell_type": "markdown",
   "id": "e116fd52",
   "metadata": {
    "id": "e116fd52"
   },
   "source": [
    "# Linear Regression"
   ]
  },
  {
   "cell_type": "markdown",
   "id": "fb5fcc00",
   "metadata": {
    "id": "fb5fcc00"
   },
   "source": [
    "## Normal Equations"
   ]
  },
  {
   "cell_type": "markdown",
   "id": "836c8a61",
   "metadata": {
    "id": "836c8a61"
   },
   "source": [
    "Consider the given features $(x_1,x_2,...,x_n)$ and output $y$,multiple linear regression aims to find the optimal values of the weights $(w_1,w_2,...,w_n)$ and bias $b$ such that the error between the prediction $\\hat{y}$ and the real output $y$ is minimized where \n",
    "\n",
    "$$\\hat{y}=w_{1}x_1+w_{2}x_2+...w_{n}x_{n}+b$$\n",
    "\n",
    "So far, we found those parameters using gradient decent. However, there is a purely linear algebra solution for this problem called \"normal equations\". This is pretty standard topic in linear algebra under least square problems. Here is your question.\n",
    "\n",
    "\n",
    "Formulate multiple linear regression problem as a linear equation form $$\\mathbf{A}x=y$$ and find its solution. *Submit this answer in a pdf file*."
   ]
  },
  {
   "cell_type": "markdown",
   "id": "d152a4b8",
   "metadata": {
    "id": "d152a4b8"
   },
   "source": [
    "## Multiple Linear Regression with Sklearn"
   ]
  },
  {
   "cell_type": "code",
   "execution_count": 10,
   "id": "388265b4",
   "metadata": {
    "executionInfo": {
     "elapsed": 2047,
     "status": "ok",
     "timestamp": 1679273496419,
     "user": {
      "displayName": "Erdi",
      "userId": "00321255967831130197"
     },
     "user_tz": 240
    },
    "id": "388265b4"
   },
   "outputs": [],
   "source": [
    "from sklearn.model_selection import train_test_split \n",
    "from sklearn.linear_model import LinearRegression\n",
    "import sklearn.metrics as metrics\n",
    "import pandas as pd\n",
    "import seaborn as sns"
   ]
  },
  {
   "cell_type": "markdown",
   "id": "bbc2224d",
   "metadata": {
    "id": "bbc2224d"
   },
   "source": [
    "- You will analyze a dataset regarding the advertisement investment of a company on different types of investment and the percentage increase in sales. As seen below, company utilized TV, Radio and Newspaper to advertise its products. \n",
    "\n",
    "- We would like to predict the percentage sales given the others using a multiple linear regression model. Thus, our features(predictors, independent variables) are TV, Radio and Newspaper and our target is Sales.\n",
    "\n",
    "- You will use sklearn library to carry out these tasks."
   ]
  },
  {
   "cell_type": "code",
   "execution_count": 11,
   "id": "7e52a0d5",
   "metadata": {
    "colab": {
     "base_uri": "https://localhost:8080/",
     "height": 206
    },
    "executionInfo": {
     "elapsed": 146,
     "status": "ok",
     "timestamp": 1679273497789,
     "user": {
      "displayName": "Erdi",
      "userId": "00321255967831130197"
     },
     "user_tz": 240
    },
    "id": "7e52a0d5",
    "outputId": "f86e8fc0-18a2-40e4-a413-ecf611a87022"
   },
   "outputs": [
    {
     "data": {
      "text/html": [
       "\n",
       "  <div id=\"df-119979db-6064-463e-a52c-b3859fe8b177\">\n",
       "    <div class=\"colab-df-container\">\n",
       "      <div>\n",
       "<style scoped>\n",
       "    .dataframe tbody tr th:only-of-type {\n",
       "        vertical-align: middle;\n",
       "    }\n",
       "\n",
       "    .dataframe tbody tr th {\n",
       "        vertical-align: top;\n",
       "    }\n",
       "\n",
       "    .dataframe thead th {\n",
       "        text-align: right;\n",
       "    }\n",
       "</style>\n",
       "<table border=\"1\" class=\"dataframe\">\n",
       "  <thead>\n",
       "    <tr style=\"text-align: right;\">\n",
       "      <th></th>\n",
       "      <th>TV</th>\n",
       "      <th>Radio</th>\n",
       "      <th>Newspaper</th>\n",
       "      <th>Sales</th>\n",
       "    </tr>\n",
       "  </thead>\n",
       "  <tbody>\n",
       "    <tr>\n",
       "      <th>0</th>\n",
       "      <td>44.5</td>\n",
       "      <td>39.3</td>\n",
       "      <td>45.1</td>\n",
       "      <td>10.4</td>\n",
       "    </tr>\n",
       "    <tr>\n",
       "      <th>1</th>\n",
       "      <td>230.1</td>\n",
       "      <td>37.8</td>\n",
       "      <td>69.2</td>\n",
       "      <td>22.1</td>\n",
       "    </tr>\n",
       "    <tr>\n",
       "      <th>2</th>\n",
       "      <td>17.2</td>\n",
       "      <td>45.9</td>\n",
       "      <td>69.3</td>\n",
       "      <td>12.0</td>\n",
       "    </tr>\n",
       "    <tr>\n",
       "      <th>3</th>\n",
       "      <td>151.5</td>\n",
       "      <td>41.3</td>\n",
       "      <td>58.5</td>\n",
       "      <td>16.5</td>\n",
       "    </tr>\n",
       "    <tr>\n",
       "      <th>4</th>\n",
       "      <td>180.8</td>\n",
       "      <td>10.8</td>\n",
       "      <td>58.4</td>\n",
       "      <td>17.9</td>\n",
       "    </tr>\n",
       "  </tbody>\n",
       "</table>\n",
       "</div>\n",
       "      <button class=\"colab-df-convert\" onclick=\"convertToInteractive('df-119979db-6064-463e-a52c-b3859fe8b177')\"\n",
       "              title=\"Convert this dataframe to an interactive table.\"\n",
       "              style=\"display:none;\">\n",
       "        \n",
       "  <svg xmlns=\"http://www.w3.org/2000/svg\" height=\"24px\"viewBox=\"0 0 24 24\"\n",
       "       width=\"24px\">\n",
       "    <path d=\"M0 0h24v24H0V0z\" fill=\"none\"/>\n",
       "    <path d=\"M18.56 5.44l.94 2.06.94-2.06 2.06-.94-2.06-.94-.94-2.06-.94 2.06-2.06.94zm-11 1L8.5 8.5l.94-2.06 2.06-.94-2.06-.94L8.5 2.5l-.94 2.06-2.06.94zm10 10l.94 2.06.94-2.06 2.06-.94-2.06-.94-.94-2.06-.94 2.06-2.06.94z\"/><path d=\"M17.41 7.96l-1.37-1.37c-.4-.4-.92-.59-1.43-.59-.52 0-1.04.2-1.43.59L10.3 9.45l-7.72 7.72c-.78.78-.78 2.05 0 2.83L4 21.41c.39.39.9.59 1.41.59.51 0 1.02-.2 1.41-.59l7.78-7.78 2.81-2.81c.8-.78.8-2.07 0-2.86zM5.41 20L4 18.59l7.72-7.72 1.47 1.35L5.41 20z\"/>\n",
       "  </svg>\n",
       "      </button>\n",
       "      \n",
       "  <style>\n",
       "    .colab-df-container {\n",
       "      display:flex;\n",
       "      flex-wrap:wrap;\n",
       "      gap: 12px;\n",
       "    }\n",
       "\n",
       "    .colab-df-convert {\n",
       "      background-color: #E8F0FE;\n",
       "      border: none;\n",
       "      border-radius: 50%;\n",
       "      cursor: pointer;\n",
       "      display: none;\n",
       "      fill: #1967D2;\n",
       "      height: 32px;\n",
       "      padding: 0 0 0 0;\n",
       "      width: 32px;\n",
       "    }\n",
       "\n",
       "    .colab-df-convert:hover {\n",
       "      background-color: #E2EBFA;\n",
       "      box-shadow: 0px 1px 2px rgba(60, 64, 67, 0.3), 0px 1px 3px 1px rgba(60, 64, 67, 0.15);\n",
       "      fill: #174EA6;\n",
       "    }\n",
       "\n",
       "    [theme=dark] .colab-df-convert {\n",
       "      background-color: #3B4455;\n",
       "      fill: #D2E3FC;\n",
       "    }\n",
       "\n",
       "    [theme=dark] .colab-df-convert:hover {\n",
       "      background-color: #434B5C;\n",
       "      box-shadow: 0px 1px 3px 1px rgba(0, 0, 0, 0.15);\n",
       "      filter: drop-shadow(0px 1px 2px rgba(0, 0, 0, 0.3));\n",
       "      fill: #FFFFFF;\n",
       "    }\n",
       "  </style>\n",
       "\n",
       "      <script>\n",
       "        const buttonEl =\n",
       "          document.querySelector('#df-119979db-6064-463e-a52c-b3859fe8b177 button.colab-df-convert');\n",
       "        buttonEl.style.display =\n",
       "          google.colab.kernel.accessAllowed ? 'block' : 'none';\n",
       "\n",
       "        async function convertToInteractive(key) {\n",
       "          const element = document.querySelector('#df-119979db-6064-463e-a52c-b3859fe8b177');\n",
       "          const dataTable =\n",
       "            await google.colab.kernel.invokeFunction('convertToInteractive',\n",
       "                                                     [key], {});\n",
       "          if (!dataTable) return;\n",
       "\n",
       "          const docLinkHtml = 'Like what you see? Visit the ' +\n",
       "            '<a target=\"_blank\" href=https://colab.research.google.com/notebooks/data_table.ipynb>data table notebook</a>'\n",
       "            + ' to learn more about interactive tables.';\n",
       "          element.innerHTML = '';\n",
       "          dataTable['output_type'] = 'display_data';\n",
       "          await google.colab.output.renderOutput(dataTable, element);\n",
       "          const docLink = document.createElement('div');\n",
       "          docLink.innerHTML = docLinkHtml;\n",
       "          element.appendChild(docLink);\n",
       "        }\n",
       "      </script>\n",
       "    </div>\n",
       "  </div>\n",
       "  "
      ],
      "text/plain": [
       "      TV  Radio  Newspaper  Sales\n",
       "0   44.5   39.3       45.1   10.4\n",
       "1  230.1   37.8       69.2   22.1\n",
       "2   17.2   45.9       69.3   12.0\n",
       "3  151.5   41.3       58.5   16.5\n",
       "4  180.8   10.8       58.4   17.9"
      ]
     },
     "execution_count": 11,
     "metadata": {},
     "output_type": "execute_result"
    }
   ],
   "source": [
    "df = pd.read_csv(\"ads_data.csv\")\n",
    "df.head()"
   ]
  },
  {
   "cell_type": "markdown",
   "id": "0e8bd0e8",
   "metadata": {
    "id": "0e8bd0e8"
   },
   "source": [
    "**Correlation**\n",
    "\n",
    "(1) Using \"pairplot\" function from seaborn library, create a scatter plot of each variable vs target variable. Your code must be just a line and show all these three graphs in a 1x3 grid. When you look at the plots, which variable does the target(sales) seem to have a linear relationship with?"
   ]
  },
  {
   "cell_type": "code",
   "execution_count": null,
   "id": "7ebb22ee",
   "metadata": {
    "id": "7ebb22ee"
   },
   "outputs": [],
   "source": [
    "#(1)comes here\n",
    "\n"
   ]
  },
  {
   "cell_type": "markdown",
   "id": "6bb44464",
   "metadata": {
    "id": "6bb44464"
   },
   "source": [
    "(2) Correlation is one of the most important statistical concepts in data analysis. Learn it and explain briefly what it is. Explain how we interpret correlation coefficient and correlation matrix. *Submit your answer in a pdf file*."
   ]
  },
  {
   "cell_type": "markdown",
   "id": "3fefa5cc",
   "metadata": {
    "id": "3fefa5cc"
   },
   "source": [
    "(3) Use Seaborn to visualize correlation matrix associated with the data above. Your code should be just a line. Interpret the results in the lights of #2"
   ]
  },
  {
   "cell_type": "code",
   "execution_count": null,
   "id": "6aab01f1",
   "metadata": {
    "id": "6aab01f1"
   },
   "outputs": [],
   "source": [
    "#3 comes here\n",
    "\n",
    "\n",
    "\n",
    "\n"
   ]
  },
  {
   "cell_type": "markdown",
   "id": "feec1669",
   "metadata": {
    "id": "feec1669"
   },
   "source": [
    "**Finding weights and bias with sklearn**\n",
    "\n",
    "(4) We imported our data into a pandas dataframe above. Use *train_test_split* to split your data into training and testing and name them as *x_train,y_train,x_test,y_test*. Do not proceed to the next question unless your code works."
   ]
  },
  {
   "cell_type": "code",
   "execution_count": null,
   "id": "68a709a4",
   "metadata": {
    "id": "68a709a4"
   },
   "outputs": [],
   "source": [
    "#(4) comes here\n",
    "\n",
    "\n"
   ]
  },
  {
   "cell_type": "markdown",
   "id": "c016b43f",
   "metadata": {
    "id": "c016b43f"
   },
   "source": [
    "(5) For this problem, linear regression is to find $w_1,w_2,w_3$ and $b$ such that\n",
    "\n",
    "\n",
    "$$y=w_{1}x_1+w_{2}x_2+w_{3}x_3 + b$$ \n",
    "\n",
    "\n",
    "Find weigths and bias using **sklearn** library. To train your model, you will use *x_train,y_train* you defined above. Make sure to print out the weights."
   ]
  },
  {
   "cell_type": "code",
   "execution_count": null,
   "id": "51ed36a8",
   "metadata": {
    "id": "51ed36a8"
   },
   "outputs": [],
   "source": [
    "#(5) comes here\n",
    "\n",
    "\n"
   ]
  },
  {
   "cell_type": "markdown",
   "id": "1b8fa1d4",
   "metadata": {
    "id": "1b8fa1d4"
   },
   "source": [
    "(6) How do you interpret weigths and the bias? For example, let's say you found $w_1=12.4$. What would that mean? \n",
    "Clearly explain. Based on your results, what would be the model prediction regarding sales if tv=34.8, radio=12.5 and newpaper=18.8?"
   ]
  },
  {
   "cell_type": "code",
   "execution_count": null,
   "id": "6c566840",
   "metadata": {
    "id": "6c566840"
   },
   "outputs": [],
   "source": [
    "#(6) comes here\n",
    "\n",
    "\n",
    "\n"
   ]
  },
  {
   "cell_type": "markdown",
   "id": "a4586d8d",
   "metadata": {
    "id": "a4586d8d"
   },
   "source": [
    "(7) Use sklearn *metrics class* to find mean-squared error, mean absolute percentage error, R-squared error on your **testing data**. Is your model a good fit?"
   ]
  },
  {
   "cell_type": "code",
   "execution_count": null,
   "id": "86dabfbc",
   "metadata": {
    "id": "86dabfbc"
   },
   "outputs": [],
   "source": [
    "#(7) comes here\n",
    "\n",
    "\n"
   ]
  },
  {
   "cell_type": "code",
   "execution_count": null,
   "id": "0ed8186a",
   "metadata": {
    "id": "0ed8186a"
   },
   "outputs": [],
   "source": []
  },
  {
   "cell_type": "code",
   "execution_count": null,
   "id": "bc1b0e67",
   "metadata": {
    "id": "bc1b0e67"
   },
   "outputs": [],
   "source": []
  },
  {
   "cell_type": "code",
   "execution_count": null,
   "id": "8544aafd",
   "metadata": {
    "id": "8544aafd"
   },
   "outputs": [],
   "source": []
  },
  {
   "cell_type": "markdown",
   "id": "551c6bd1",
   "metadata": {
    "id": "551c6bd1"
   },
   "source": [
    "# COLLOBORATION STATEMENT"
   ]
  },
  {
   "cell_type": "markdown",
   "id": "02095d27",
   "metadata": {
    "id": "02095d27"
   },
   "source": [
    "Member-1\n",
    "\n",
    "\n",
    "\n",
    "\n",
    "\n",
    "Member-2\n",
    "\n",
    "\n",
    "\n",
    "\n",
    "\n",
    "\n",
    "\n",
    "Member-3\n",
    "\n",
    "\n",
    "\n"
   ]
  },
  {
   "cell_type": "code",
   "execution_count": null,
   "id": "e2aac82f",
   "metadata": {
    "id": "e2aac82f"
   },
   "outputs": [],
   "source": []
  }
 ],
 "metadata": {
  "colab": {
   "provenance": []
  },
  "kernelspec": {
   "display_name": "Python 3 (ipykernel)",
   "language": "python",
   "name": "python3"
  },
  "language_info": {
   "codemirror_mode": {
    "name": "ipython",
    "version": 3
   },
   "file_extension": ".py",
   "mimetype": "text/x-python",
   "name": "python",
   "nbconvert_exporter": "python",
   "pygments_lexer": "ipython3",
   "version": "3.9.13"
  },
  "latex_envs": {
   "LaTeX_envs_menu_present": true,
   "autoclose": false,
   "autocomplete": false,
   "bibliofile": "biblio.bib",
   "cite_by": "apalike",
   "current_citInitial": 1,
   "eqLabelWithNumbers": true,
   "eqNumInitial": 1,
   "hotkeys": {
    "equation": "Ctrl-E",
    "itemize": "Ctrl-I"
   },
   "labels_anchors": false,
   "latex_user_defs": false,
   "report_style_numbering": false,
   "user_envs_cfg": false
  },
  "toc": {
   "base_numbering": 1,
   "nav_menu": {},
   "number_sections": true,
   "sideBar": true,
   "skip_h1_title": false,
   "title_cell": "Table of Contents",
   "title_sidebar": "Contents",
   "toc_cell": false,
   "toc_position": {},
   "toc_section_display": true,
   "toc_window_display": false
  }
 },
 "nbformat": 4,
 "nbformat_minor": 5
}
